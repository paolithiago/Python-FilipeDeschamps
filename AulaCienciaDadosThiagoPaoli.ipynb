{
  "nbformat": 4,
  "nbformat_minor": 0,
  "metadata": {
    "colab": {
      "name": "AulaCienciaDadosThiagoPaoli.ipynb",
      "provenance": [],
      "collapsed_sections": [],
      "toc_visible": true,
      "authorship_tag": "ABX9TyMsY5N6c8c7MjPgoxFoNlBw",
      "include_colab_link": true
    },
    "kernelspec": {
      "name": "python3",
      "display_name": "Python 3"
    }
  },
  "cells": [
    {
      "cell_type": "markdown",
      "metadata": {
        "id": "view-in-github",
        "colab_type": "text"
      },
      "source": [
        "<a href=\"https://colab.research.google.com/github/paolithiago/Python-FilipeDeschamps/blob/master/AulaCienciaDadosThiagoPaoli.ipynb\" target=\"_parent\"><img src=\"https://colab.research.google.com/assets/colab-badge.svg\" alt=\"Open In Colab\"/></a>"
      ]
    },
    {
      "cell_type": "markdown",
      "metadata": {
        "id": "95y9ByQVWwSI",
        "colab_type": "text"
      },
      "source": [
        "\n",
        "\n",
        "/Aluno - Thiago felipe Pacheco de Paoli\n",
        "Materia - Ciencia de Dados\n",
        "IETEC Pos Transformação Digital\n",
        "\n",
        "-------------------------------------------------------------\n"
      ]
    },
    {
      "cell_type": "markdown",
      "metadata": {
        "id": "dcVjECEH1dmV",
        "colab_type": "text"
      },
      "source": [
        "-------------------------------------------------------------\n",
        "\n",
        "\n",
        "#Numeros Strings\n"
      ]
    },
    {
      "cell_type": "code",
      "metadata": {
        "id": "_lL9Tu1hyuX6",
        "colab_type": "code",
        "colab": {
          "base_uri": "https://localhost:8080/",
          "height": 34
        },
        "outputId": "4a3fd5ee-cd28-40f5-a4d2-3cb426200a0a"
      },
      "source": [
        "#valores inteiros\n",
        "val = 1\n",
        "type(val)"
      ],
      "execution_count": null,
      "outputs": [
        {
          "output_type": "execute_result",
          "data": {
            "text/plain": [
              "int"
            ]
          },
          "metadata": {
            "tags": []
          },
          "execution_count": 1
        }
      ]
    },
    {
      "cell_type": "code",
      "metadata": {
        "id": "FuKza51L00iA",
        "colab_type": "code",
        "colab": {
          "base_uri": "https://localhost:8080/",
          "height": 34
        },
        "outputId": "6251c55d-5b83-4559-d9d2-df576b5fe6fd"
      },
      "source": [
        "#valores ponto flutuante(com casas decimais)\n",
        "val = 1.0\n",
        "type(val)"
      ],
      "execution_count": null,
      "outputs": [
        {
          "output_type": "execute_result",
          "data": {
            "text/plain": [
              "float"
            ]
          },
          "metadata": {
            "tags": []
          },
          "execution_count": 2
        }
      ]
    },
    {
      "cell_type": "code",
      "metadata": {
        "id": "ZYRSdRr81HYy",
        "colab_type": "code",
        "colab": {
          "base_uri": "https://localhost:8080/",
          "height": 34
        },
        "outputId": "b632662f-2915-43a8-fa04-08022e8ad7e1"
      },
      "source": [
        "1."
      ],
      "execution_count": null,
      "outputs": [
        {
          "output_type": "execute_result",
          "data": {
            "text/plain": [
              "1.0"
            ]
          },
          "metadata": {
            "tags": []
          },
          "execution_count": 3
        }
      ]
    },
    {
      "cell_type": "code",
      "metadata": {
        "id": "Y1YxDFWJ1jJT",
        "colab_type": "code",
        "colab": {
          "base_uri": "https://localhost:8080/",
          "height": 34
        },
        "outputId": "4b7b4a5a-eb62-44ce-efce-2daba4cd5a75"
      },
      "source": [
        "type(1+2j)"
      ],
      "execution_count": null,
      "outputs": [
        {
          "output_type": "execute_result",
          "data": {
            "text/plain": [
              "complex"
            ]
          },
          "metadata": {
            "tags": []
          },
          "execution_count": 4
        }
      ]
    },
    {
      "cell_type": "code",
      "metadata": {
        "id": "YHYpL2jD1otr",
        "colab_type": "code",
        "colab": {
          "base_uri": "https://localhost:8080/",
          "height": 34
        },
        "outputId": "8057bc64-1368-46ed-e38e-1b920cfe9a43"
      },
      "source": [
        "(1+2j)"
      ],
      "execution_count": null,
      "outputs": [
        {
          "output_type": "execute_result",
          "data": {
            "text/plain": [
              "(1+2j)"
            ]
          },
          "metadata": {
            "tags": []
          },
          "execution_count": 5
        }
      ]
    },
    {
      "cell_type": "markdown",
      "metadata": {
        "id": "dpfk7i4p1xqO",
        "colab_type": "text"
      },
      "source": [
        "#Conversao para tipos espeicificos"
      ]
    },
    {
      "cell_type": "code",
      "metadata": {
        "id": "x98FjCtW2elh",
        "colab_type": "code",
        "colab": {
          "base_uri": "https://localhost:8080/",
          "height": 34
        },
        "outputId": "d2014774-95f6-43ee-c265-32ea99277715"
      },
      "source": [
        "#Para converter para numero inteiro colocar INT, \n",
        "#no caso abaixo retorna inteiro de 1.5\n",
        "int(1.5)"
      ],
      "execution_count": null,
      "outputs": [
        {
          "output_type": "execute_result",
          "data": {
            "text/plain": [
              "1"
            ]
          },
          "metadata": {
            "tags": []
          },
          "execution_count": 6
        }
      ]
    },
    {
      "cell_type": "code",
      "metadata": {
        "id": "tDUr8gGK10EH",
        "colab_type": "code",
        "colab": {
          "base_uri": "https://localhost:8080/",
          "height": 34
        },
        "outputId": "bdd3ca6d-b7ba-45fa-e0d3-ac0f64a90f07"
      },
      "source": [
        "#arredondar o valor\n",
        "round(1.8)"
      ],
      "execution_count": null,
      "outputs": [
        {
          "output_type": "execute_result",
          "data": {
            "text/plain": [
              "2"
            ]
          },
          "metadata": {
            "tags": []
          },
          "execution_count": 7
        }
      ]
    },
    {
      "cell_type": "code",
      "metadata": {
        "id": "au2fLLJj2o6z",
        "colab_type": "code",
        "colab": {
          "base_uri": "https://localhost:8080/",
          "height": 34
        },
        "outputId": "3042918b-c368-435b-f0ea-7962460d1483"
      },
      "source": [
        "#Converter valores para float - usar o float\n",
        "float(6)"
      ],
      "execution_count": null,
      "outputs": [
        {
          "output_type": "execute_result",
          "data": {
            "text/plain": [
              "6.0"
            ]
          },
          "metadata": {
            "tags": []
          },
          "execution_count": 8
        }
      ]
    },
    {
      "cell_type": "code",
      "metadata": {
        "id": "8ruwmGyO3Rd9",
        "colab_type": "code",
        "colab": {
          "base_uri": "https://localhost:8080/",
          "height": 34
        },
        "outputId": "25dc8e67-1038-4fae-e8ea-390a504969fa"
      },
      "source": [
        "#representação do infinito negativo\n",
        "float('-inf')"
      ],
      "execution_count": null,
      "outputs": [
        {
          "output_type": "execute_result",
          "data": {
            "text/plain": [
              "-inf"
            ]
          },
          "metadata": {
            "tags": []
          },
          "execution_count": 9
        }
      ]
    },
    {
      "cell_type": "code",
      "metadata": {
        "id": "yvli3ooa3aZd",
        "colab_type": "code",
        "colab": {
          "base_uri": "https://localhost:8080/",
          "height": 34
        },
        "outputId": "7042f0c1-4209-4e65-86bc-d9c2febc122d"
      },
      "source": [
        "#nan - Not a number aparece na base de dados quando nao achar numero. Tem algumas formas de tratar:\n",
        "#uma delas e remover colunas(nao indicada), outra e remover as linhas nan(um pouco mais usada mas nao tao interessante) outro e pode-se fazer media\n",
        "#mediana para preencher onde temos nan\n",
        "float('nan')"
      ],
      "execution_count": null,
      "outputs": [
        {
          "output_type": "execute_result",
          "data": {
            "text/plain": [
              "nan"
            ]
          },
          "metadata": {
            "tags": []
          },
          "execution_count": 10
        }
      ]
    },
    {
      "cell_type": "code",
      "metadata": {
        "id": "2Jj8CNA24NVy",
        "colab_type": "code",
        "colab": {
          "base_uri": "https://localhost:8080/",
          "height": 34
        },
        "outputId": "96fafa57-b4d8-4559-9e6e-86620d8fdf86"
      },
      "source": [
        "#converter em numero complexo primeira parte inteiro e segunda a parte imaginaria\n",
        "complex(1,2)"
      ],
      "execution_count": null,
      "outputs": [
        {
          "output_type": "execute_result",
          "data": {
            "text/plain": [
              "(1+2j)"
            ]
          },
          "metadata": {
            "tags": []
          },
          "execution_count": 11
        }
      ]
    },
    {
      "cell_type": "markdown",
      "metadata": {
        "id": "PvWfH_kX5VOH",
        "colab_type": "text"
      },
      "source": [
        "Manipulação com numeros simples"
      ]
    },
    {
      "cell_type": "code",
      "metadata": {
        "id": "0V0KpkIm5TKb",
        "colab_type": "code",
        "colab": {
          "base_uri": "https://localhost:8080/",
          "height": 34
        },
        "outputId": "18c5d2f8-d04c-4d40-b253-1d458ba999b0"
      },
      "source": [
        "3+2"
      ],
      "execution_count": null,
      "outputs": [
        {
          "output_type": "execute_result",
          "data": {
            "text/plain": [
              "5"
            ]
          },
          "metadata": {
            "tags": []
          },
          "execution_count": 12
        }
      ]
    },
    {
      "cell_type": "code",
      "metadata": {
        "id": "yhB1JoDS5d-2",
        "colab_type": "code",
        "colab": {}
      },
      "source": [
        "a = 3+2\n"
      ],
      "execution_count": null,
      "outputs": []
    },
    {
      "cell_type": "code",
      "metadata": {
        "id": "AnK14jfW5g08",
        "colab_type": "code",
        "colab": {
          "base_uri": "https://localhost:8080/",
          "height": 34
        },
        "outputId": "0374641c-4b3f-4fc1-bc66-99090538dd2c"
      },
      "source": [
        "3+4.2"
      ],
      "execution_count": null,
      "outputs": [
        {
          "output_type": "execute_result",
          "data": {
            "text/plain": [
              "7.2"
            ]
          },
          "metadata": {
            "tags": []
          },
          "execution_count": 14
        }
      ]
    },
    {
      "cell_type": "code",
      "metadata": {
        "id": "bdbobUfl5iye",
        "colab_type": "code",
        "colab": {
          "base_uri": "https://localhost:8080/",
          "height": 34
        },
        "outputId": "4632d703-300c-4377-d9a0-d10c46317408"
      },
      "source": [
        "4/2"
      ],
      "execution_count": null,
      "outputs": [
        {
          "output_type": "execute_result",
          "data": {
            "text/plain": [
              "2.0"
            ]
          },
          "metadata": {
            "tags": []
          },
          "execution_count": 15
        }
      ]
    },
    {
      "cell_type": "code",
      "metadata": {
        "id": "7_isH6kW5kUM",
        "colab_type": "code",
        "colab": {
          "base_uri": "https://localhost:8080/",
          "height": 34
        },
        "outputId": "06f0ebd9-fc70-4ff5-f8c7-2d85b5b7e77a"
      },
      "source": [
        "5/2\n"
      ],
      "execution_count": null,
      "outputs": [
        {
          "output_type": "execute_result",
          "data": {
            "text/plain": [
              "2.5"
            ]
          },
          "metadata": {
            "tags": []
          },
          "execution_count": 16
        }
      ]
    },
    {
      "cell_type": "code",
      "metadata": {
        "id": "Ky2qS4zV5mEI",
        "colab_type": "code",
        "colab": {
          "base_uri": "https://localhost:8080/",
          "height": 34
        },
        "outputId": "9e583108-c874-4313-cd43-938be8fee615"
      },
      "source": [
        "#operador // retorna so valor inteiro da divisao\n",
        "5//2"
      ],
      "execution_count": null,
      "outputs": [
        {
          "output_type": "execute_result",
          "data": {
            "text/plain": [
              "2"
            ]
          },
          "metadata": {
            "tags": []
          },
          "execution_count": 17
        }
      ]
    },
    {
      "cell_type": "code",
      "metadata": {
        "id": "CXeTHaqL5rb9",
        "colab_type": "code",
        "colab": {
          "base_uri": "https://localhost:8080/",
          "height": 34
        },
        "outputId": "cf31f8c1-58ac-4034-fdc9-39d5c04846e0"
      },
      "source": [
        "#retorna resto da divisao - usado para verificar se e par ou impar\n",
        "3%2"
      ],
      "execution_count": null,
      "outputs": [
        {
          "output_type": "execute_result",
          "data": {
            "text/plain": [
              "1"
            ]
          },
          "metadata": {
            "tags": []
          },
          "execution_count": 18
        }
      ]
    },
    {
      "cell_type": "code",
      "metadata": {
        "id": "k91ywPaS6B7B",
        "colab_type": "code",
        "colab": {
          "base_uri": "https://localhost:8080/",
          "height": 34
        },
        "outputId": "e3846c45-a2cc-49fc-a99a-a7eb8a0e0ba3"
      },
      "source": [
        "-3"
      ],
      "execution_count": null,
      "outputs": [
        {
          "output_type": "execute_result",
          "data": {
            "text/plain": [
              "-3"
            ]
          },
          "metadata": {
            "tags": []
          },
          "execution_count": 19
        }
      ]
    },
    {
      "cell_type": "code",
      "metadata": {
        "id": "b8vudOrh6H5G",
        "colab_type": "code",
        "colab": {
          "base_uri": "https://localhost:8080/",
          "height": 34
        },
        "outputId": "52b22ca2-b377-44c0-d967-5cb047db8086"
      },
      "source": [
        "# Dois asteriscos - gerar potencia conforme abaixo 2 elevado a 8\n",
        "2 ** 8"
      ],
      "execution_count": null,
      "outputs": [
        {
          "output_type": "execute_result",
          "data": {
            "text/plain": [
              "256"
            ]
          },
          "metadata": {
            "tags": []
          },
          "execution_count": 20
        }
      ]
    },
    {
      "cell_type": "code",
      "metadata": {
        "id": "3r4try346St5",
        "colab_type": "code",
        "colab": {
          "base_uri": "https://localhost:8080/",
          "height": 34
        },
        "outputId": "f4ceb260-1e9e-4d21-f4a6-97042d4931a4"
      },
      "source": [
        "(2*5)/(5*9)"
      ],
      "execution_count": null,
      "outputs": [
        {
          "output_type": "execute_result",
          "data": {
            "text/plain": [
              "0.2222222222222222"
            ]
          },
          "metadata": {
            "tags": []
          },
          "execution_count": 21
        }
      ]
    },
    {
      "cell_type": "code",
      "metadata": {
        "id": "1EeY98Pr6047",
        "colab_type": "code",
        "colab": {}
      },
      "source": [
        ""
      ],
      "execution_count": null,
      "outputs": []
    },
    {
      "cell_type": "markdown",
      "metadata": {
        "id": "Co9qyuO969ag",
        "colab_type": "text"
      },
      "source": [
        "Exercicios\n",
        "1. calcular IMC peso /(altura **2)\n",
        "2. Calcular a velocidade  de um veiculo que percorreu a distancia de 60 km em 3 horas\n",
        "3.Calcular a distancia percorrida por um veiculo que permaneceu em velocidade constante de 80 km/h em 4 horas \n",
        "-->Formula para exercicios 1 e 2 - v=d/t"
      ]
    },
    {
      "cell_type": "code",
      "metadata": {
        "id": "4wEVVopr7qDt",
        "colab_type": "code",
        "colab": {
          "base_uri": "https://localhost:8080/",
          "height": 34
        },
        "outputId": "c3871a5e-0e8c-4dff-8fbb-a454111352ba"
      },
      "source": [
        "#1.\n",
        "peso = 60\n",
        "altura =  1.82\n",
        "imc = peso/(altura**2)\n",
        "print(imc)"
      ],
      "execution_count": null,
      "outputs": [
        {
          "output_type": "stream",
          "text": [
            "18.11375437749064\n"
          ],
          "name": "stdout"
        }
      ]
    },
    {
      "cell_type": "code",
      "metadata": {
        "id": "93QhVMwO7rUC",
        "colab_type": "code",
        "colab": {
          "base_uri": "https://localhost:8080/",
          "height": 34
        },
        "outputId": "3097775c-92a2-4c61-e887-81554496018f"
      },
      "source": [
        "#2.\n",
        "distancia = 60\n",
        "horas = 3\n",
        "velocidade = distancia / horas\n",
        "print(velocidade,'km/h')"
      ],
      "execution_count": null,
      "outputs": [
        {
          "output_type": "stream",
          "text": [
            "20.0 km/h\n"
          ],
          "name": "stdout"
        }
      ]
    },
    {
      "cell_type": "code",
      "metadata": {
        "id": "hPVYzC8P8Pai",
        "colab_type": "code",
        "colab": {
          "base_uri": "https://localhost:8080/",
          "height": 34
        },
        "outputId": "e06111e2-750f-4623-e489-408ddc815037"
      },
      "source": [
        "#3.\n",
        "velocidade = 80\n",
        "horas = 4 \n",
        "distancia =   velocidade * horas\n",
        "print(distancia,'Km')"
      ],
      "execution_count": null,
      "outputs": [
        {
          "output_type": "stream",
          "text": [
            "320 Km\n"
          ],
          "name": "stdout"
        }
      ]
    },
    {
      "cell_type": "code",
      "metadata": {
        "id": "Rsf-58Q98Uoo",
        "colab_type": "code",
        "colab": {}
      },
      "source": [
        ""
      ],
      "execution_count": null,
      "outputs": []
    },
    {
      "cell_type": "markdown",
      "metadata": {
        "id": "gNokTuuJ9wfY",
        "colab_type": "text"
      },
      "source": [
        "Operações com tipos diferentes\n"
      ]
    },
    {
      "cell_type": "code",
      "metadata": {
        "id": "kH3ZiMrg9zCk",
        "colab_type": "code",
        "colab": {
          "base_uri": "https://localhost:8080/",
          "height": 34
        },
        "outputId": "54e801b6-65e9-45a1-f83d-102fea115631"
      },
      "source": [
        "#usando lambda para fazer calculos\n",
        "x =lambda velocidade,horas:velocidade*horas\n",
        "print(x(80,4))"
      ],
      "execution_count": null,
      "outputs": [
        {
          "output_type": "stream",
          "text": [
            "320\n"
          ],
          "name": "stdout"
        }
      ]
    },
    {
      "cell_type": "code",
      "metadata": {
        "id": "u3Nvrhzc-Io9",
        "colab_type": "code",
        "colab": {
          "base_uri": "https://localhost:8080/",
          "height": 34
        },
        "outputId": "53f09a14-fbe4-4e16-c296-b9148e31eb79"
      },
      "source": [
        "type(2)"
      ],
      "execution_count": null,
      "outputs": [
        {
          "output_type": "execute_result",
          "data": {
            "text/plain": [
              "int"
            ]
          },
          "metadata": {
            "tags": []
          },
          "execution_count": 26
        }
      ]
    },
    {
      "cell_type": "code",
      "metadata": {
        "id": "OpHBT2Mb-K1E",
        "colab_type": "code",
        "colab": {
          "base_uri": "https://localhost:8080/",
          "height": 34
        },
        "outputId": "0ddd0185-0fb7-4b14-e3c2-10dcf4f6505d"
      },
      "source": [
        "type(1+2.0)"
      ],
      "execution_count": null,
      "outputs": [
        {
          "output_type": "execute_result",
          "data": {
            "text/plain": [
              "float"
            ]
          },
          "metadata": {
            "tags": []
          },
          "execution_count": 27
        }
      ]
    },
    {
      "cell_type": "code",
      "metadata": {
        "id": "Wk89p2aS-QCe",
        "colab_type": "code",
        "colab": {
          "base_uri": "https://localhost:8080/",
          "height": 34
        },
        "outputId": "51ed7064-34f5-4873-fb08-30094822d74a"
      },
      "source": [
        "  print('Copa 2014')"
      ],
      "execution_count": null,
      "outputs": [
        {
          "output_type": "stream",
          "text": [
            "Copa 2014\n"
          ],
          "name": "stdout"
        }
      ]
    },
    {
      "cell_type": "code",
      "metadata": {
        "id": "sldMLIZH-oNP",
        "colab_type": "code",
        "colab": {
          "base_uri": "https://localhost:8080/",
          "height": 34
        },
        "outputId": "2c95e46f-1a01-4925-de85-e48fdedbb204"
      },
      "source": [
        "print('Copa \"Padrao\" Fifa')"
      ],
      "execution_count": null,
      "outputs": [
        {
          "output_type": "stream",
          "text": [
            "Copa \"Padrao\" Fifa\n"
          ],
          "name": "stdout"
        }
      ]
    },
    {
      "cell_type": "code",
      "metadata": {
        "id": "6XlW99w_-uuv",
        "colab_type": "code",
        "colab": {}
      },
      "source": [
        "#variavel recebe string\n",
        "st = 'texto qualquer'"
      ],
      "execution_count": null,
      "outputs": []
    },
    {
      "cell_type": "code",
      "metadata": {
        "id": "GwthLzb5-x_8",
        "colab_type": "code",
        "colab": {
          "base_uri": "https://localhost:8080/",
          "height": 35
        },
        "outputId": "68749033-6772-421a-f3b4-541ac28a7496"
      },
      "source": [
        "#busca uma valor dentro da string\n",
        "st[0]"
      ],
      "execution_count": null,
      "outputs": [
        {
          "output_type": "execute_result",
          "data": {
            "application/vnd.google.colaboratory.intrinsic+json": {
              "type": "string"
            },
            "text/plain": [
              "'t'"
            ]
          },
          "metadata": {
            "tags": []
          },
          "execution_count": 31
        }
      ]
    },
    {
      "cell_type": "code",
      "metadata": {
        "id": "jpSZ6SjX-zVL",
        "colab_type": "code",
        "colab": {
          "base_uri": "https://localhost:8080/",
          "height": 35
        },
        "outputId": "ebd2daad-8e97-4faa-d119-b2f6a83f3703"
      },
      "source": [
        "#imprime de 1 ate 4\n",
        "st[1:4]"
      ],
      "execution_count": null,
      "outputs": [
        {
          "output_type": "execute_result",
          "data": {
            "application/vnd.google.colaboratory.intrinsic+json": {
              "type": "string"
            },
            "text/plain": [
              "'ext'"
            ]
          },
          "metadata": {
            "tags": []
          },
          "execution_count": 32
        }
      ]
    },
    {
      "cell_type": "code",
      "metadata": {
        "id": "Vxlw0Opd_HSE",
        "colab_type": "code",
        "colab": {
          "base_uri": "https://localhost:8080/",
          "height": 35
        },
        "outputId": "745abe72-cad8-4bab-bdd0-e694d6cd02ee"
      },
      "source": [
        "#imprime do indice 2 para frente\n",
        "st[2:]"
      ],
      "execution_count": null,
      "outputs": [
        {
          "output_type": "execute_result",
          "data": {
            "application/vnd.google.colaboratory.intrinsic+json": {
              "type": "string"
            },
            "text/plain": [
              "'xto qualquer'"
            ]
          },
          "metadata": {
            "tags": []
          },
          "execution_count": 33
        }
      ]
    },
    {
      "cell_type": "code",
      "metadata": {
        "id": "8aQ9cRh6_PbR",
        "colab_type": "code",
        "colab": {
          "base_uri": "https://localhost:8080/",
          "height": 35
        },
        "outputId": "7aa60f87-1fb4-4d83-cc92-2f9571227004"
      },
      "source": [
        "#imprime ate indeice 3\n",
        "st[:3]"
      ],
      "execution_count": null,
      "outputs": [
        {
          "output_type": "execute_result",
          "data": {
            "application/vnd.google.colaboratory.intrinsic+json": {
              "type": "string"
            },
            "text/plain": [
              "'tex'"
            ]
          },
          "metadata": {
            "tags": []
          },
          "execution_count": 34
        }
      ]
    },
    {
      "cell_type": "code",
      "metadata": {
        "id": "vKmFrsWk_UTO",
        "colab_type": "code",
        "colab": {
          "base_uri": "https://localhost:8080/",
          "height": 34
        },
        "outputId": "22f0a3d6-f81b-4bcf-8433-bea948e0202a"
      },
      "source": [
        "#retorna o tamanho da string\n",
        "len(st)"
      ],
      "execution_count": null,
      "outputs": [
        {
          "output_type": "execute_result",
          "data": {
            "text/plain": [
              "14"
            ]
          },
          "metadata": {
            "tags": []
          },
          "execution_count": 35
        }
      ]
    },
    {
      "cell_type": "code",
      "metadata": {
        "id": "GiOiih7T_XTB",
        "colab_type": "code",
        "colab": {
          "base_uri": "https://localhost:8080/",
          "height": 34
        },
        "outputId": "0bf56af9-121a-4fce-bb30-7e6e5f92a932"
      },
      "source": [
        "#retorna se esta no string\n",
        "'q'in st"
      ],
      "execution_count": null,
      "outputs": [
        {
          "output_type": "execute_result",
          "data": {
            "text/plain": [
              "True"
            ]
          },
          "metadata": {
            "tags": []
          },
          "execution_count": 36
        }
      ]
    },
    {
      "cell_type": "code",
      "metadata": {
        "id": "DBRkcywI_lje",
        "colab_type": "code",
        "colab": {
          "base_uri": "https://localhost:8080/",
          "height": 34
        },
        "outputId": "5ec1f787-68d0-4889-bf2a-70363c9a64c0"
      },
      "source": [
        " #retorna se nao esta na string\n",
        " 'l' not in st"
      ],
      "execution_count": null,
      "outputs": [
        {
          "output_type": "execute_result",
          "data": {
            "text/plain": [
              "False"
            ]
          },
          "metadata": {
            "tags": []
          },
          "execution_count": 37
        }
      ]
    },
    {
      "cell_type": "code",
      "metadata": {
        "id": "iyqZvpgt_fRx",
        "colab_type": "code",
        "colab": {
          "base_uri": "https://localhost:8080/",
          "height": 35
        },
        "outputId": "5abdf2d7-fd3e-4bff-fa24-8ed38fbd8273"
      },
      "source": [
        "# Concatenar \n",
        "'1 - ' + st"
      ],
      "execution_count": null,
      "outputs": [
        {
          "output_type": "execute_result",
          "data": {
            "application/vnd.google.colaboratory.intrinsic+json": {
              "type": "string"
            },
            "text/plain": [
              "'1 - texto qualquer'"
            ]
          },
          "metadata": {
            "tags": []
          },
          "execution_count": 38
        }
      ]
    },
    {
      "cell_type": "code",
      "metadata": {
        "id": "3c8l1Rdf_vvP",
        "colab_type": "code",
        "colab": {}
      },
      "source": [
        ""
      ],
      "execution_count": null,
      "outputs": []
    },
    {
      "cell_type": "markdown",
      "metadata": {
        "id": "9q2El46UAHTd",
        "colab_type": "text"
      },
      "source": [
        "Principais Metodos\n",
        "\n"
      ]
    },
    {
      "cell_type": "code",
      "metadata": {
        "id": "D9ZfmU0aAJIr",
        "colab_type": "code",
        "colab": {}
      },
      "source": [
        "texto = 'texto para strings'"
      ],
      "execution_count": null,
      "outputs": []
    },
    {
      "cell_type": "code",
      "metadata": {
        "id": "WDcthco7ANW5",
        "colab_type": "code",
        "colab": {
          "base_uri": "https://localhost:8080/",
          "height": 35
        },
        "outputId": "66ca7a22-8e66-422a-a8bb-2db8438607c5"
      },
      "source": [
        "#capitalize - coloca a primeira letra em maisuculo\n",
        "texto.capitalize()"
      ],
      "execution_count": null,
      "outputs": [
        {
          "output_type": "execute_result",
          "data": {
            "application/vnd.google.colaboratory.intrinsic+json": {
              "type": "string"
            },
            "text/plain": [
              "'Texto para strings'"
            ]
          },
          "metadata": {
            "tags": []
          },
          "execution_count": 40
        }
      ]
    },
    {
      "cell_type": "code",
      "metadata": {
        "id": "R7DHiHBpAS7A",
        "colab_type": "code",
        "colab": {
          "base_uri": "https://localhost:8080/",
          "height": 34
        },
        "outputId": "7de54825-67fb-4288-f0e4-d517252c7b02"
      },
      "source": [
        "#conta quantas vezes a letra aparece na string\n",
        "texto.count('t')"
      ],
      "execution_count": null,
      "outputs": [
        {
          "output_type": "execute_result",
          "data": {
            "text/plain": [
              "3"
            ]
          },
          "metadata": {
            "tags": []
          },
          "execution_count": 41
        }
      ]
    },
    {
      "cell_type": "code",
      "metadata": {
        "id": "8UE8nzxRAVMb",
        "colab_type": "code",
        "colab": {
          "base_uri": "https://localhost:8080/",
          "height": 34
        },
        "outputId": "c9c4b6c5-a907-498d-a243-d4dd0a1e0c99"
      },
      "source": [
        "#verifica se o texto comeca com a letra t\n",
        "texto.startswith('t')"
      ],
      "execution_count": null,
      "outputs": [
        {
          "output_type": "execute_result",
          "data": {
            "text/plain": [
              "True"
            ]
          },
          "metadata": {
            "tags": []
          },
          "execution_count": 42
        }
      ]
    },
    {
      "cell_type": "code",
      "metadata": {
        "id": "4m7ka-iGAqU4",
        "colab_type": "code",
        "colab": {
          "base_uri": "https://localhost:8080/",
          "height": 34
        },
        "outputId": "62d5654b-96f2-46a5-8863-25e23b0f6e47"
      },
      "source": [
        "#split quebra ate o caracter que voce colocar  gerando uma lista\n",
        "texto.split(' ')"
      ],
      "execution_count": null,
      "outputs": [
        {
          "output_type": "execute_result",
          "data": {
            "text/plain": [
              "['texto', 'para', 'strings']"
            ]
          },
          "metadata": {
            "tags": []
          },
          "execution_count": 43
        }
      ]
    },
    {
      "cell_type": "code",
      "metadata": {
        "id": "tcSgqFGXA9MT",
        "colab_type": "code",
        "colab": {
          "base_uri": "https://localhost:8080/",
          "height": 35
        },
        "outputId": "ce85a380-8471-4711-e147-14c31ea57cf4"
      },
      "source": [
        "#replace altera os valores\n",
        "texto.replace('texto','metodos')"
      ],
      "execution_count": null,
      "outputs": [
        {
          "output_type": "execute_result",
          "data": {
            "application/vnd.google.colaboratory.intrinsic+json": {
              "type": "string"
            },
            "text/plain": [
              "'metodos para strings'"
            ]
          },
          "metadata": {
            "tags": []
          },
          "execution_count": 44
        }
      ]
    },
    {
      "cell_type": "code",
      "metadata": {
        "id": "_uoA1sflBi5i",
        "colab_type": "code",
        "colab": {
          "base_uri": "https://localhost:8080/",
          "height": 35
        },
        "outputId": "b0f5217a-c92a-42c6-b703-cf4766b1769f"
      },
      "source": [
        "#join usa para juntar\n",
        "\" \".join(['thiago','Paoli'])"
      ],
      "execution_count": null,
      "outputs": [
        {
          "output_type": "execute_result",
          "data": {
            "application/vnd.google.colaboratory.intrinsic+json": {
              "type": "string"
            },
            "text/plain": [
              "'thiago Paoli'"
            ]
          },
          "metadata": {
            "tags": []
          },
          "execution_count": 45
        }
      ]
    },
    {
      "cell_type": "code",
      "metadata": {
        "id": "H0t0ISLLBqhq",
        "colab_type": "code",
        "colab": {
          "base_uri": "https://localhost:8080/",
          "height": 35
        },
        "outputId": "8ca8842f-c1d1-490f-d11f-3687dd40bfd6"
      },
      "source": [
        "#Format - pode usar em abordagem em cconsultas bd , que dentro do format sera um valor que recebe como parametro\n",
        "\"{} dias para copa\".format(100)"
      ],
      "execution_count": null,
      "outputs": [
        {
          "output_type": "execute_result",
          "data": {
            "application/vnd.google.colaboratory.intrinsic+json": {
              "type": "string"
            },
            "text/plain": [
              "'100 dias para copa'"
            ]
          },
          "metadata": {
            "tags": []
          },
          "execution_count": 46
        }
      ]
    },
    {
      "cell_type": "code",
      "metadata": {
        "id": "MTpqD0vBB2HS",
        "colab_type": "code",
        "colab": {
          "base_uri": "https://localhost:8080/",
          "height": 35
        },
        "outputId": "ebd08c38-e43c-4ca0-a673-e1133393b55c"
      },
      "source": [
        "\"{} {} {} Teste\".format(1,2,3)"
      ],
      "execution_count": null,
      "outputs": [
        {
          "output_type": "execute_result",
          "data": {
            "application/vnd.google.colaboratory.intrinsic+json": {
              "type": "string"
            },
            "text/plain": [
              "'1 2 3 Teste'"
            ]
          },
          "metadata": {
            "tags": []
          },
          "execution_count": 47
        }
      ]
    },
    {
      "cell_type": "code",
      "metadata": {
        "id": "TXOZilsiCS4q",
        "colab_type": "code",
        "colab": {
          "base_uri": "https://localhost:8080/",
          "height": 34
        },
        "outputId": "ef1123bc-6ee3-4b95-e3fd-068a138433cc"
      },
      "source": [
        "a=10\n",
        "b=20\n",
        "a>= b"
      ],
      "execution_count": null,
      "outputs": [
        {
          "output_type": "execute_result",
          "data": {
            "text/plain": [
              "False"
            ]
          },
          "metadata": {
            "tags": []
          },
          "execution_count": 48
        }
      ]
    },
    {
      "cell_type": "code",
      "metadata": {
        "id": "zVzi_nL4EE0h",
        "colab_type": "code",
        "colab": {
          "base_uri": "https://localhost:8080/",
          "height": 34
        },
        "outputId": "eef6d8fc-fe47-41e6-ad0d-9bac0e8081b7"
      },
      "source": [
        "a==b"
      ],
      "execution_count": null,
      "outputs": [
        {
          "output_type": "execute_result",
          "data": {
            "text/plain": [
              "False"
            ]
          },
          "metadata": {
            "tags": []
          },
          "execution_count": 49
        }
      ]
    },
    {
      "cell_type": "code",
      "metadata": {
        "id": "MEwH7eAVENzQ",
        "colab_type": "code",
        "colab": {}
      },
      "source": [
        ""
      ],
      "execution_count": null,
      "outputs": []
    },
    {
      "cell_type": "markdown",
      "metadata": {
        "id": "AFk9Tn47GrP1",
        "colab_type": "text"
      },
      "source": [
        "LOOPS\n"
      ]
    },
    {
      "cell_type": "code",
      "metadata": {
        "id": "OkQ-zQVVGvM3",
        "colab_type": "code",
        "colab": {}
      },
      "source": [
        "valinicio = 0\n",
        "valfim = 10"
      ],
      "execution_count": null,
      "outputs": []
    },
    {
      "cell_type": "code",
      "metadata": {
        "id": "nEGnwiO-H0vY",
        "colab_type": "code",
        "colab": {
          "base_uri": "https://localhost:8080/",
          "height": 204
        },
        "outputId": "f96daf56-ab55-4339-dc3b-2f70f5dd708c"
      },
      "source": [
        "while (valinicio <= valfim):\n",
        "  print(valinicio)\n",
        "  valinicio = valinicio+1"
      ],
      "execution_count": null,
      "outputs": [
        {
          "output_type": "stream",
          "text": [
            "0\n",
            "1\n",
            "2\n",
            "3\n",
            "4\n",
            "5\n",
            "6\n",
            "7\n",
            "8\n",
            "9\n",
            "10\n"
          ],
          "name": "stdout"
        }
      ]
    },
    {
      "cell_type": "code",
      "metadata": {
        "id": "C-HRviHaIRX_",
        "colab_type": "code",
        "colab": {
          "base_uri": "https://localhost:8080/",
          "height": 34
        },
        "outputId": "314201d3-12e1-49ff-f3f3-6604e320ec2c"
      },
      "source": [
        "  lista = [1,2,3,4,5]\n",
        "  len(lista)"
      ],
      "execution_count": null,
      "outputs": [
        {
          "output_type": "execute_result",
          "data": {
            "text/plain": [
              "5"
            ]
          },
          "metadata": {
            "tags": []
          },
          "execution_count": 52
        }
      ]
    },
    {
      "cell_type": "code",
      "metadata": {
        "id": "7gtZFjd3MDey",
        "colab_type": "code",
        "colab": {
          "base_uri": "https://localhost:8080/",
          "height": 102
        },
        "outputId": "5a84f03f-6bab-4500-c95f-60f00fd735f6"
      },
      "source": [
        "soma = 0 \n",
        "pos_atual = 0\n",
        "while (pos_atual<len(lista)):\n",
        "  soma = soma + lista[pos_atual]\n",
        "  pos_atual = pos_atual + 1\n",
        "  print(soma)\n",
        "  #print(pos_atual)\n",
        "\n",
        "\n"
      ],
      "execution_count": null,
      "outputs": [
        {
          "output_type": "stream",
          "text": [
            "1\n",
            "3\n",
            "6\n",
            "10\n",
            "15\n"
          ],
          "name": "stdout"
        }
      ]
    },
    {
      "cell_type": "code",
      "metadata": {
        "id": "JM1mli8fOCcN",
        "colab_type": "code",
        "colab": {
          "base_uri": "https://localhost:8080/",
          "height": 119
        },
        "outputId": "e9ad0503-6c00-4251-8c6d-c706a5721348"
      },
      "source": [
        "# aqui no caso do for ele assume os valores da lista e o for ja sabe que tem que percorrer toda lista\n",
        "soma = 0\n",
        "for item in lista:\n",
        "  soma =soma + item\n",
        "  print(soma)\n",
        "\n",
        "print(\"Valor Soma:{}\".format(soma))\n"
      ],
      "execution_count": null,
      "outputs": [
        {
          "output_type": "stream",
          "text": [
            "1\n",
            "3\n",
            "6\n",
            "10\n",
            "15\n",
            "Valor Soma:15\n"
          ],
          "name": "stdout"
        }
      ]
    },
    {
      "cell_type": "code",
      "metadata": {
        "id": "jxVaHW3BPCNa",
        "colab_type": "code",
        "colab": {}
      },
      "source": [
        ""
      ],
      "execution_count": null,
      "outputs": []
    },
    {
      "cell_type": "markdown",
      "metadata": {
        "id": "L3IJgnDLQoOj",
        "colab_type": "text"
      },
      "source": [
        "Funções\n"
      ]
    },
    {
      "cell_type": "code",
      "metadata": {
        "id": "O9mduo3iQq2L",
        "colab_type": "code",
        "colab": {}
      },
      "source": [
        "#Podemos criar nossas proprias funcoes usando def\n",
        "def calcula_salario_liquido(salario, imposto):\n",
        "  salario_liquido = salario -(salario * imposto * 0.01)\n",
        "  return(salario_liquido)"
      ],
      "execution_count": null,
      "outputs": []
    },
    {
      "cell_type": "code",
      "metadata": {
        "id": "Twa-8RKaRFhD",
        "colab_type": "code",
        "colab": {
          "base_uri": "https://localhost:8080/",
          "height": 34
        },
        "outputId": "ee62e119-a5ac-43c4-d0a1-40db8d60349d"
      },
      "source": [
        "print(calcula_salario_liquido(1000, 10))"
      ],
      "execution_count": null,
      "outputs": [
        {
          "output_type": "stream",
          "text": [
            "900.0\n"
          ],
          "name": "stdout"
        }
      ]
    },
    {
      "cell_type": "code",
      "metadata": {
        "id": "ZcZQWOifRLYM",
        "colab_type": "code",
        "colab": {
          "base_uri": "https://localhost:8080/",
          "height": 85
        },
        "outputId": "c204c9e8-cc8c-40c9-e090-f55dc914d6b8"
      },
      "source": [
        "#fazer uma funcção para calcular para varios salarios\n",
        "lista_salarios = [1000,2000,1500,3000]\n",
        "lista_desconto = [10,15,15,20]\n",
        "\n",
        "posicao = 0\n",
        "while (posicao < len(lista_salarios)):\n",
        "  print(calcula_salario_liquido(lista_salarios[posicao],lista_desconto[posicao]))\n",
        "  posicao = posicao + 1"
      ],
      "execution_count": null,
      "outputs": [
        {
          "output_type": "stream",
          "text": [
            "900.0\n",
            "1700.0\n",
            "1275.0\n",
            "2400.0\n"
          ],
          "name": "stdout"
        }
      ]
    },
    {
      "cell_type": "code",
      "metadata": {
        "id": "x4BT1WMqSxXi",
        "colab_type": "code",
        "colab": {}
      },
      "source": [
        ""
      ],
      "execution_count": null,
      "outputs": []
    },
    {
      "cell_type": "markdown",
      "metadata": {
        "id": "Qmsg9VVoS8Ju",
        "colab_type": "text"
      },
      "source": [
        "Exericio - Imagine que possui uma frota de avioes. Todos avioes possuem a mesma capacidade. voce pode comprar e vender avioes. Cm base nisso, crie funcao que calcula , com base na caacdade do aviao , quantas pessoas podem viajar ao mesmo tempo utilizando a sua frota completa\n"
      ]
    },
    {
      "cell_type": "code",
      "metadata": {
        "id": "G_rdKbCzTVET",
        "colab_type": "code",
        "colab": {
          "base_uri": "https://localhost:8080/",
          "height": 34
        },
        "outputId": "4f9eb905-c07b-4cf4-f63d-40d9e7aa4e8c"
      },
      "source": [
        "\n",
        "def capacidadetotal(capacidade,avioes):\n",
        "  capacidade_total = capacidade*avioes\n",
        "  return (capacidade)\n",
        "\n",
        "frota  = capacidadetotal(30,10)\n",
        "print('Frota no momento -->{}'.format(frota))"
      ],
      "execution_count": null,
      "outputs": [
        {
          "output_type": "stream",
          "text": [
            "Frota no momento -->30\n"
          ],
          "name": "stdout"
        }
      ]
    },
    {
      "cell_type": "code",
      "metadata": {
        "id": "nKYBmX-iTvcO",
        "colab_type": "code",
        "colab": {}
      },
      "source": [
        "from matplotlib import pyplot as plt\n",
        " "
      ],
      "execution_count": null,
      "outputs": []
    },
    {
      "cell_type": "code",
      "metadata": {
        "id": "Ueyjm8DRWZPt",
        "colab_type": "code",
        "colab": {
          "base_uri": "https://localhost:8080/",
          "height": 265
        },
        "outputId": "3a7314af-c3ea-4ecb-8630-edffe82955f7"
      },
      "source": [
        "plt.plot([1,2,3],[1,4,9])\n",
        "plt.show()"
      ],
      "execution_count": null,
      "outputs": [
        {
          "output_type": "display_data",
          "data": {
            "image/png": "[encoded data removed]",
            "text/plain": [
              "<Figure size 432x288 with 1 Axes>"
            ]
          },
          "metadata": {
            "tags": [],
            "needs_background": "light"
          }
        }
      ]
    },
    {
      "cell_type": "code",
      "metadata": {
        "id": "Nd3FTmFlWiSh",
        "colab_type": "code",
        "colab": {
          "base_uri": "https://localhost:8080/",
          "height": 383
        },
        "outputId": "9a736be5-7876-4148-e855-a8ed51d72b85"
      },
      "source": [
        "plt.plot([1,2,3],[1,4,9])\n",
        "plt.plot([1,5,6],[1,25,36])\n",
        "plt.xlabel('Eixo x')\n",
        "plt.ylabel('Eixo y')\n",
        "plt.title('Titulo')\n",
        "plt.legend(['Quadrados'],['Outros Quadrados'])\n",
        "plt.show()"
      ],
      "execution_count": null,
      "outputs": [
        {
          "output_type": "stream",
          "text": [
            "/usr/local/lib/python3.6/dist-packages/ipykernel_launcher.py:6: UserWarning: Legend does not support 'Quadrados' instances.\n",
            "A proxy artist may be used instead.\n",
            "See: http://matplotlib.org/users/legend_guide.html#creating-artists-specifically-for-adding-to-the-legend-aka-proxy-artists\n",
            "  \n"
          ],
          "name": "stderr"
        },
        {
          "output_type": "display_data",
          "data": {
            "image/png": "[encoded data removed]",
            "text/plain": [
              "<Figure size 432x288 with 1 Axes>"
            ]
          },
          "metadata": {
            "tags": [],
            "needs_background": "light"
          }
        }
      ]
    },
    {
      "cell_type": "code",
      "metadata": {
        "id": "RMrx7n9lXcxL",
        "colab_type": "code",
        "colab": {
          "base_uri": "https://localhost:8080/",
          "height": 353
        },
        "outputId": "3377ebd3-2313-4f7c-d20e-b462fbbc13e0"
      },
      "source": [
        "plt.plot([1,2,3],[1,4,9],color = 'red' , linewidth = 5)\n",
        "plt.plot([1,2,3],[10,20,30])\n",
        "plt.legend(['Conjunto 1'],['Conjunto 2'])\n",
        "plt.show()"
      ],
      "execution_count": null,
      "outputs": [
        {
          "output_type": "stream",
          "text": [
            "/usr/local/lib/python3.6/dist-packages/ipykernel_launcher.py:3: UserWarning: Legend does not support 'Conjunto 1' instances.\n",
            "A proxy artist may be used instead.\n",
            "See: http://matplotlib.org/users/legend_guide.html#creating-artists-specifically-for-adding-to-the-legend-aka-proxy-artists\n",
            "  This is separate from the ipykernel package so we can avoid doing imports until\n"
          ],
          "name": "stderr"
        },
        {
          "output_type": "display_data",
          "data": {
            "image/png": "[encoded data removed]",
            "text/plain": [
              "<Figure size 432x288 with 1 Axes>"
            ]
          },
          "metadata": {
            "tags": [],
            "needs_background": "light"
          }
        }
      ]
    },
    {
      "cell_type": "code",
      "metadata": {
        "id": "dxmiOeIiZhoi",
        "colab_type": "code",
        "colab": {}
      },
      "source": [
        "from matplotlib import pyplot as plt\n",
        "#tem uma estrutura de dados -data frame que deixa os dados estruturados\n",
        "import pandas as pd"
      ],
      "execution_count": null,
      "outputs": []
    },
    {
      "cell_type": "code",
      "metadata": {
        "id": "2Z6nB8nFZz8W",
        "colab_type": "code",
        "colab": {}
      },
      "source": [
        "#Cria um dicionario com ano, participantes e media de idades com os valores em lista\n",
        "dados = {'Ano':[2008,2012,2016],\n",
        "      'Participantes':[112,321,729],\n",
        "      'Media':[24,43,21]\n",
        "}"
      ],
      "execution_count": null,
      "outputs": []
    },
    {
      "cell_type": "code",
      "metadata": {
        "id": "BT_qDU4cabS5",
        "colab_type": "code",
        "colab": {
          "base_uri": "https://localhost:8080/",
          "height": 68
        },
        "outputId": "68f1bfee-d034-4d1d-bc76-b6bccf8c7124"
      },
      "source": [
        "#Imprime o dicionario de dados\n",
        "dados"
      ],
      "execution_count": null,
      "outputs": [
        {
          "output_type": "execute_result",
          "data": {
            "text/plain": [
              "{'Ano': [2008, 2012, 2016],\n",
              " 'Media': [24, 43, 21],\n",
              " 'Participantes': [112, 321, 729]}"
            ]
          },
          "metadata": {
            "tags": []
          },
          "execution_count": 65
        }
      ]
    },
    {
      "cell_type": "code",
      "metadata": {
        "id": "CBTVrN0kahlA",
        "colab_type": "code",
        "colab": {}
      },
      "source": [
        "#converte os dados para um data frame\n",
        "df =pd.DataFrame(dados)"
      ],
      "execution_count": null,
      "outputs": []
    },
    {
      "cell_type": "code",
      "metadata": {
        "id": "qBJnDoW9alxG",
        "colab_type": "code",
        "colab": {
          "base_uri": "https://localhost:8080/",
          "height": 142
        },
        "outputId": "7c09aece-fd61-4c09-dcad-3ca294d37b6f"
      },
      "source": [
        "#imprime o dataframe\n",
        "df"
      ],
      "execution_count": null,
      "outputs": [
        {
          "output_type": "execute_result",
          "data": {
            "text/html": [
              "<div>\n",
              "<style scoped>\n",
              "    .dataframe tbody tr th:only-of-type {\n",
              "        vertical-align: middle;\n",
              "    }\n",
              "\n",
              "    .dataframe tbody tr th {\n",
              "        vertical-align: top;\n",
              "    }\n",
              "\n",
              "    .dataframe thead th {\n",
              "        text-align: right;\n",
              "    }\n",
              "</style>\n",
              "<table border=\"1\" class=\"dataframe\">\n",
              "  <thead>\n",
              "    <tr style=\"text-align: right;\">\n",
              "      <th></th>\n",
              "      <th>Ano</th>\n",
              "      <th>Participantes</th>\n",
              "      <th>Media</th>\n",
              "    </tr>\n",
              "  </thead>\n",
              "  <tbody>\n",
              "    <tr>\n",
              "      <th>0</th>\n",
              "      <td>2008</td>\n",
              "      <td>112</td>\n",
              "      <td>24</td>\n",
              "    </tr>\n",
              "    <tr>\n",
              "      <th>1</th>\n",
              "      <td>2012</td>\n",
              "      <td>321</td>\n",
              "      <td>43</td>\n",
              "    </tr>\n",
              "    <tr>\n",
              "      <th>2</th>\n",
              "      <td>2016</td>\n",
              "      <td>729</td>\n",
              "      <td>21</td>\n",
              "    </tr>\n",
              "  </tbody>\n",
              "</table>\n",
              "</div>"
            ],
            "text/plain": [
              "    Ano  Participantes  Media\n",
              "0  2008            112     24\n",
              "1  2012            321     43\n",
              "2  2016            729     21"
            ]
          },
          "metadata": {
            "tags": []
          },
          "execution_count": 67
        }
      ]
    },
    {
      "cell_type": "code",
      "metadata": {
        "id": "GJy04y_naoEU",
        "colab_type": "code",
        "colab": {
          "base_uri": "https://localhost:8080/",
          "height": 85
        },
        "outputId": "19652a8e-bc92-4d3d-b60d-2f2201b98a38"
      },
      "source": [
        "#imprime os valores da coluna ano\n",
        "df.Ano"
      ],
      "execution_count": null,
      "outputs": [
        {
          "output_type": "execute_result",
          "data": {
            "text/plain": [
              "0    2008\n",
              "1    2012\n",
              "2    2016\n",
              "Name: Ano, dtype: int64"
            ]
          },
          "metadata": {
            "tags": []
          },
          "execution_count": 68
        }
      ]
    },
    {
      "cell_type": "code",
      "metadata": {
        "id": "zwfbAFsia0qC",
        "colab_type": "code",
        "colab": {
          "base_uri": "https://localhost:8080/",
          "height": 85
        },
        "outputId": "8998622b-41b9-423e-b085-e415eca763df"
      },
      "source": [
        "#imprime os valores da coluna participante\n",
        "df.Participantes"
      ],
      "execution_count": null,
      "outputs": [
        {
          "output_type": "execute_result",
          "data": {
            "text/plain": [
              "0    112\n",
              "1    321\n",
              "2    729\n",
              "Name: Participantes, dtype: int64"
            ]
          },
          "metadata": {
            "tags": []
          },
          "execution_count": 69
        }
      ]
    },
    {
      "cell_type": "code",
      "metadata": {
        "id": "4Sb5ckfsa_RG",
        "colab_type": "code",
        "colab": {
          "base_uri": "https://localhost:8080/",
          "height": 85
        },
        "outputId": "7411e347-9feb-4342-d105-21d057167b12"
      },
      "source": [
        "#outra dorma de pegar os valore de uma coluna, no caso coluna media\n",
        "df['Media']"
      ],
      "execution_count": null,
      "outputs": [
        {
          "output_type": "execute_result",
          "data": {
            "text/plain": [
              "0    24\n",
              "1    43\n",
              "2    21\n",
              "Name: Media, dtype: int64"
            ]
          },
          "metadata": {
            "tags": []
          },
          "execution_count": 70
        }
      ]
    },
    {
      "cell_type": "code",
      "metadata": {
        "id": "DEi8vyImbPas",
        "colab_type": "code",
        "colab": {}
      },
      "source": [
        "#retorna valores da tabea que ano menor que 2013 -retorna booleano, para retornar os valores fazer no como no proximo\n",
        "df_antes_2013 = df['Ano']<2013"
      ],
      "execution_count": null,
      "outputs": []
    },
    {
      "cell_type": "code",
      "metadata": {
        "id": "Lvp8G5AVbdu1",
        "colab_type": "code",
        "colab": {
          "base_uri": "https://localhost:8080/",
          "height": 85
        },
        "outputId": "b755ede6-4233-41cc-98d5-6adb2fec8663"
      },
      "source": [
        "df_antes_2013"
      ],
      "execution_count": null,
      "outputs": [
        {
          "output_type": "execute_result",
          "data": {
            "text/plain": [
              "0     True\n",
              "1     True\n",
              "2    False\n",
              "Name: Ano, dtype: bool"
            ]
          },
          "metadata": {
            "tags": []
          },
          "execution_count": 72
        }
      ]
    },
    {
      "cell_type": "code",
      "metadata": {
        "id": "tGpKpi3RbjGQ",
        "colab_type": "code",
        "colab": {
          "base_uri": "https://localhost:8080/",
          "height": 111
        },
        "outputId": "ba7a2b78-6fc8-4ffd-c341-3367c8c86aa4"
      },
      "source": [
        "#aqui ele retorna os valores da variavel que criei acima\n",
        "df[df_antes_2013]"
      ],
      "execution_count": null,
      "outputs": [
        {
          "output_type": "execute_result",
          "data": {
            "text/html": [
              "<div>\n",
              "<style scoped>\n",
              "    .dataframe tbody tr th:only-of-type {\n",
              "        vertical-align: middle;\n",
              "    }\n",
              "\n",
              "    .dataframe tbody tr th {\n",
              "        vertical-align: top;\n",
              "    }\n",
              "\n",
              "    .dataframe thead th {\n",
              "        text-align: right;\n",
              "    }\n",
              "</style>\n",
              "<table border=\"1\" class=\"dataframe\">\n",
              "  <thead>\n",
              "    <tr style=\"text-align: right;\">\n",
              "      <th></th>\n",
              "      <th>Ano</th>\n",
              "      <th>Participantes</th>\n",
              "      <th>Media</th>\n",
              "    </tr>\n",
              "  </thead>\n",
              "  <tbody>\n",
              "    <tr>\n",
              "      <th>0</th>\n",
              "      <td>2008</td>\n",
              "      <td>112</td>\n",
              "      <td>24</td>\n",
              "    </tr>\n",
              "    <tr>\n",
              "      <th>1</th>\n",
              "      <td>2012</td>\n",
              "      <td>321</td>\n",
              "      <td>43</td>\n",
              "    </tr>\n",
              "  </tbody>\n",
              "</table>\n",
              "</div>"
            ],
            "text/plain": [
              "    Ano  Participantes  Media\n",
              "0  2008            112     24\n",
              "1  2012            321     43"
            ]
          },
          "metadata": {
            "tags": []
          },
          "execution_count": 73
        }
      ]
    },
    {
      "cell_type": "code",
      "metadata": {
        "id": "AgYhfOGabt8n",
        "colab_type": "code",
        "colab": {
          "base_uri": "https://localhost:8080/",
          "height": 265
        },
        "outputId": "8fd7d59d-1b5c-4eab-f0d0-3f58630ac58f"
      },
      "source": [
        "plt.plot(df['Ano'],df['Participantes'])\n",
        "plt.plot(df['Ano'],df['Media'])\n",
        "plt.show()"
      ],
      "execution_count": null,
      "outputs": [
        {
          "output_type": "display_data",
          "data": {
            "image/png": "[encoded data removed]",
            "text/plain": [
              "<Figure size 432x288 with 1 Axes>"
            ]
          },
          "metadata": {
            "tags": [],
            "needs_background": "light"
          }
        }
      ]
    },
    {
      "cell_type": "code",
      "metadata": {
        "id": "gjmgun4RdDx8",
        "colab_type": "code",
        "colab": {
          "base_uri": "https://localhost:8080/",
          "height": 265
        },
        "outputId": "34df504d-7c28-44d2-f8e4-9aaa8ceb4ae6"
      },
      "source": [
        "plt.plot(df['Ano'],df['Participantes'])\n",
        "plt.plot(df['Ano'],df['Media'])\n",
        "plt.grid(linestyle = '-',color = 'gray' , linewidth = 1 )\n",
        "plt.legend(['Participantes','Media'])\n",
        "plt.show()"
      ],
      "execution_count": null,
      "outputs": [
        {
          "output_type": "display_data",
          "data": {
            "image/png": "[encoded data removed]",
            "text/plain": [
              "<Figure size 432x288 with 1 Axes>"
            ]
          },
          "metadata": {
            "tags": [],
            "needs_background": "light"
          }
        }
      ]
    },
    {
      "cell_type": "code",
      "metadata": {
        "id": "ftqa7xtlelvI",
        "colab_type": "code",
        "colab": {}
      },
      "source": [
        ""
      ],
      "execution_count": null,
      "outputs": []
    },
    {
      "cell_type": "markdown",
      "metadata": {
        "id": "iLSEOdIo5jPJ",
        "colab_type": "text"
      },
      "source": [
        "Aula dia 20/08"
      ]
    },
    {
      "cell_type": "code",
      "metadata": {
        "id": "2f33vBJW5mTk",
        "colab_type": "code",
        "colab": {}
      },
      "source": [
        "########Colocar o exemplo do group by que dei o print\n"
      ],
      "execution_count": null,
      "outputs": []
    },
    {
      "cell_type": "code",
      "metadata": {
        "id": "-E0v5C8I54nN",
        "colab_type": "code",
        "colab": {}
      },
      "source": [
        "#Agora vamos carregar um arquivo csv. clicar na pasta ao lado. Ir na pasta do arquivo. Clicar no arquivo, arrastar e soltar\n",
        "#Toda vez precisa arrastar o arquivo, fazer o procedimento acima.\n",
        "#professor falou que tem uma forma de colcoar o arquivo no goggle drive e conectar\n"
      ],
      "execution_count": null,
      "outputs": []
    },
    {
      "cell_type": "code",
      "metadata": {
        "id": "tOyuFg2W7TvW",
        "colab_type": "code",
        "colab": {}
      },
      "source": [
        "import pandas as pd #carregando biblioteca\n",
        "from matplotlib import pyplot as plt\n"
      ],
      "execution_count": null,
      "outputs": []
    },
    {
      "cell_type": "code",
      "metadata": {
        "id": "NVTtCZtC7vwH",
        "colab_type": "code",
        "colab": {}
      },
      "source": [
        "data = pd.read_csv('/content/countries.csv',delimiter=',')#carrega arquivo com delimitor ,"
      ],
      "execution_count": null,
      "outputs": []
    },
    {
      "cell_type": "code",
      "metadata": {
        "id": "tY6Ogd1k798v",
        "colab_type": "code",
        "colab": {
          "base_uri": "https://localhost:8080/",
          "height": 204
        },
        "outputId": "64d9f979-f163-4832-df61-abb1c5e8cb13"
      },
      "source": [
        "data.head()#Primeiras linhas do arquivo"
      ],
      "execution_count": null,
      "outputs": [
        {
          "output_type": "execute_result",
          "data": {
            "text/html": [
              "<div>\n",
              "<style scoped>\n",
              "    .dataframe tbody tr th:only-of-type {\n",
              "        vertical-align: middle;\n",
              "    }\n",
              "\n",
              "    .dataframe tbody tr th {\n",
              "        vertical-align: top;\n",
              "    }\n",
              "\n",
              "    .dataframe thead th {\n",
              "        text-align: right;\n",
              "    }\n",
              "</style>\n",
              "<table border=\"1\" class=\"dataframe\">\n",
              "  <thead>\n",
              "    <tr style=\"text-align: right;\">\n",
              "      <th></th>\n",
              "      <th>country</th>\n",
              "      <th>continent</th>\n",
              "      <th>year</th>\n",
              "      <th>lifeExpectancy</th>\n",
              "      <th>population</th>\n",
              "      <th>gdpPerCapita</th>\n",
              "    </tr>\n",
              "  </thead>\n",
              "  <tbody>\n",
              "    <tr>\n",
              "      <th>0</th>\n",
              "      <td>Afghanistan</td>\n",
              "      <td>Asia</td>\n",
              "      <td>1952</td>\n",
              "      <td>28.801</td>\n",
              "      <td>8425333</td>\n",
              "      <td>779.445314</td>\n",
              "    </tr>\n",
              "    <tr>\n",
              "      <th>1</th>\n",
              "      <td>Afghanistan</td>\n",
              "      <td>Asia</td>\n",
              "      <td>1957</td>\n",
              "      <td>30.332</td>\n",
              "      <td>9240934</td>\n",
              "      <td>820.853030</td>\n",
              "    </tr>\n",
              "    <tr>\n",
              "      <th>2</th>\n",
              "      <td>Afghanistan</td>\n",
              "      <td>Asia</td>\n",
              "      <td>1962</td>\n",
              "      <td>31.997</td>\n",
              "      <td>10267083</td>\n",
              "      <td>853.100710</td>\n",
              "    </tr>\n",
              "    <tr>\n",
              "      <th>3</th>\n",
              "      <td>Afghanistan</td>\n",
              "      <td>Asia</td>\n",
              "      <td>1967</td>\n",
              "      <td>34.020</td>\n",
              "      <td>11537966</td>\n",
              "      <td>836.197138</td>\n",
              "    </tr>\n",
              "    <tr>\n",
              "      <th>4</th>\n",
              "      <td>Afghanistan</td>\n",
              "      <td>Asia</td>\n",
              "      <td>1972</td>\n",
              "      <td>36.088</td>\n",
              "      <td>13079460</td>\n",
              "      <td>739.981106</td>\n",
              "    </tr>\n",
              "  </tbody>\n",
              "</table>\n",
              "</div>"
            ],
            "text/plain": [
              "       country continent  year  lifeExpectancy  population  gdpPerCapita\n",
              "0  Afghanistan      Asia  1952          28.801     8425333    779.445314\n",
              "1  Afghanistan      Asia  1957          30.332     9240934    820.853030\n",
              "2  Afghanistan      Asia  1962          31.997    10267083    853.100710\n",
              "3  Afghanistan      Asia  1967          34.020    11537966    836.197138\n",
              "4  Afghanistan      Asia  1972          36.088    13079460    739.981106"
            ]
          },
          "metadata": {
            "tags": []
          },
          "execution_count": 81
        }
      ]
    },
    {
      "cell_type": "code",
      "metadata": {
        "id": "ZO2ojh2e7__z",
        "colab_type": "code",
        "colab": {
          "base_uri": "https://localhost:8080/",
          "height": 421
        },
        "outputId": "4cd646fe-1b2e-41ad-afbc-5145b9027b4a"
      },
      "source": [
        "#Agora vamos filtrar os casos do Brasil\n",
        "data[data.country=='Brazil']"
      ],
      "execution_count": null,
      "outputs": [
        {
          "output_type": "execute_result",
          "data": {
            "text/html": [
              "<div>\n",
              "<style scoped>\n",
              "    .dataframe tbody tr th:only-of-type {\n",
              "        vertical-align: middle;\n",
              "    }\n",
              "\n",
              "    .dataframe tbody tr th {\n",
              "        vertical-align: top;\n",
              "    }\n",
              "\n",
              "    .dataframe thead th {\n",
              "        text-align: right;\n",
              "    }\n",
              "</style>\n",
              "<table border=\"1\" class=\"dataframe\">\n",
              "  <thead>\n",
              "    <tr style=\"text-align: right;\">\n",
              "      <th></th>\n",
              "      <th>country</th>\n",
              "      <th>continent</th>\n",
              "      <th>year</th>\n",
              "      <th>lifeExpectancy</th>\n",
              "      <th>population</th>\n",
              "      <th>gdpPerCapita</th>\n",
              "    </tr>\n",
              "  </thead>\n",
              "  <tbody>\n",
              "    <tr>\n",
              "      <th>168</th>\n",
              "      <td>Brazil</td>\n",
              "      <td>Americas</td>\n",
              "      <td>1952</td>\n",
              "      <td>50.917</td>\n",
              "      <td>56602560</td>\n",
              "      <td>2108.944355</td>\n",
              "    </tr>\n",
              "    <tr>\n",
              "      <th>169</th>\n",
              "      <td>Brazil</td>\n",
              "      <td>Americas</td>\n",
              "      <td>1957</td>\n",
              "      <td>53.285</td>\n",
              "      <td>65551171</td>\n",
              "      <td>2487.365989</td>\n",
              "    </tr>\n",
              "    <tr>\n",
              "      <th>170</th>\n",
              "      <td>Brazil</td>\n",
              "      <td>Americas</td>\n",
              "      <td>1962</td>\n",
              "      <td>55.665</td>\n",
              "      <td>76039390</td>\n",
              "      <td>3336.585802</td>\n",
              "    </tr>\n",
              "    <tr>\n",
              "      <th>171</th>\n",
              "      <td>Brazil</td>\n",
              "      <td>Americas</td>\n",
              "      <td>1967</td>\n",
              "      <td>57.632</td>\n",
              "      <td>88049823</td>\n",
              "      <td>3429.864357</td>\n",
              "    </tr>\n",
              "    <tr>\n",
              "      <th>172</th>\n",
              "      <td>Brazil</td>\n",
              "      <td>Americas</td>\n",
              "      <td>1972</td>\n",
              "      <td>59.504</td>\n",
              "      <td>100840058</td>\n",
              "      <td>4985.711467</td>\n",
              "    </tr>\n",
              "    <tr>\n",
              "      <th>173</th>\n",
              "      <td>Brazil</td>\n",
              "      <td>Americas</td>\n",
              "      <td>1977</td>\n",
              "      <td>61.489</td>\n",
              "      <td>114313951</td>\n",
              "      <td>6660.118654</td>\n",
              "    </tr>\n",
              "    <tr>\n",
              "      <th>174</th>\n",
              "      <td>Brazil</td>\n",
              "      <td>Americas</td>\n",
              "      <td>1982</td>\n",
              "      <td>63.336</td>\n",
              "      <td>128962939</td>\n",
              "      <td>7030.835878</td>\n",
              "    </tr>\n",
              "    <tr>\n",
              "      <th>175</th>\n",
              "      <td>Brazil</td>\n",
              "      <td>Americas</td>\n",
              "      <td>1987</td>\n",
              "      <td>65.205</td>\n",
              "      <td>142938076</td>\n",
              "      <td>7807.095818</td>\n",
              "    </tr>\n",
              "    <tr>\n",
              "      <th>176</th>\n",
              "      <td>Brazil</td>\n",
              "      <td>Americas</td>\n",
              "      <td>1992</td>\n",
              "      <td>67.057</td>\n",
              "      <td>155975974</td>\n",
              "      <td>6950.283021</td>\n",
              "    </tr>\n",
              "    <tr>\n",
              "      <th>177</th>\n",
              "      <td>Brazil</td>\n",
              "      <td>Americas</td>\n",
              "      <td>1997</td>\n",
              "      <td>69.388</td>\n",
              "      <td>168546719</td>\n",
              "      <td>7957.980824</td>\n",
              "    </tr>\n",
              "    <tr>\n",
              "      <th>178</th>\n",
              "      <td>Brazil</td>\n",
              "      <td>Americas</td>\n",
              "      <td>2002</td>\n",
              "      <td>71.006</td>\n",
              "      <td>179914212</td>\n",
              "      <td>8131.212843</td>\n",
              "    </tr>\n",
              "    <tr>\n",
              "      <th>179</th>\n",
              "      <td>Brazil</td>\n",
              "      <td>Americas</td>\n",
              "      <td>2007</td>\n",
              "      <td>72.390</td>\n",
              "      <td>190010647</td>\n",
              "      <td>9065.800825</td>\n",
              "    </tr>\n",
              "  </tbody>\n",
              "</table>\n",
              "</div>"
            ],
            "text/plain": [
              "    country continent  year  lifeExpectancy  population  gdpPerCapita\n",
              "168  Brazil  Americas  1952          50.917    56602560   2108.944355\n",
              "169  Brazil  Americas  1957          53.285    65551171   2487.365989\n",
              "170  Brazil  Americas  1962          55.665    76039390   3336.585802\n",
              "171  Brazil  Americas  1967          57.632    88049823   3429.864357\n",
              "172  Brazil  Americas  1972          59.504   100840058   4985.711467\n",
              "173  Brazil  Americas  1977          61.489   114313951   6660.118654\n",
              "174  Brazil  Americas  1982          63.336   128962939   7030.835878\n",
              "175  Brazil  Americas  1987          65.205   142938076   7807.095818\n",
              "176  Brazil  Americas  1992          67.057   155975974   6950.283021\n",
              "177  Brazil  Americas  1997          69.388   168546719   7957.980824\n",
              "178  Brazil  Americas  2002          71.006   179914212   8131.212843\n",
              "179  Brazil  Americas  2007          72.390   190010647   9065.800825"
            ]
          },
          "metadata": {
            "tags": []
          },
          "execution_count": 82
        }
      ]
    },
    {
      "cell_type": "code",
      "metadata": {
        "id": "v7boVpKx9oqJ",
        "colab_type": "code",
        "colab": {
          "base_uri": "https://localhost:8080/",
          "height": 204
        },
        "outputId": "a9fa1543-8e93-484e-ae5c-ad49ca060155"
      },
      "source": [
        "#Agora vamos filtrar os casos do Brasil e Afeganistao Testar\n",
        "data[(data.country=='Brazil') | (data.country =='Afghanistan')].head()"
      ],
      "execution_count": null,
      "outputs": [
        {
          "output_type": "execute_result",
          "data": {
            "text/html": [
              "<div>\n",
              "<style scoped>\n",
              "    .dataframe tbody tr th:only-of-type {\n",
              "        vertical-align: middle;\n",
              "    }\n",
              "\n",
              "    .dataframe tbody tr th {\n",
              "        vertical-align: top;\n",
              "    }\n",
              "\n",
              "    .dataframe thead th {\n",
              "        text-align: right;\n",
              "    }\n",
              "</style>\n",
              "<table border=\"1\" class=\"dataframe\">\n",
              "  <thead>\n",
              "    <tr style=\"text-align: right;\">\n",
              "      <th></th>\n",
              "      <th>country</th>\n",
              "      <th>continent</th>\n",
              "      <th>year</th>\n",
              "      <th>lifeExpectancy</th>\n",
              "      <th>population</th>\n",
              "      <th>gdpPerCapita</th>\n",
              "    </tr>\n",
              "  </thead>\n",
              "  <tbody>\n",
              "    <tr>\n",
              "      <th>0</th>\n",
              "      <td>Afghanistan</td>\n",
              "      <td>Asia</td>\n",
              "      <td>1952</td>\n",
              "      <td>28.801</td>\n",
              "      <td>8425333</td>\n",
              "      <td>779.445314</td>\n",
              "    </tr>\n",
              "    <tr>\n",
              "      <th>1</th>\n",
              "      <td>Afghanistan</td>\n",
              "      <td>Asia</td>\n",
              "      <td>1957</td>\n",
              "      <td>30.332</td>\n",
              "      <td>9240934</td>\n",
              "      <td>820.853030</td>\n",
              "    </tr>\n",
              "    <tr>\n",
              "      <th>2</th>\n",
              "      <td>Afghanistan</td>\n",
              "      <td>Asia</td>\n",
              "      <td>1962</td>\n",
              "      <td>31.997</td>\n",
              "      <td>10267083</td>\n",
              "      <td>853.100710</td>\n",
              "    </tr>\n",
              "    <tr>\n",
              "      <th>3</th>\n",
              "      <td>Afghanistan</td>\n",
              "      <td>Asia</td>\n",
              "      <td>1967</td>\n",
              "      <td>34.020</td>\n",
              "      <td>11537966</td>\n",
              "      <td>836.197138</td>\n",
              "    </tr>\n",
              "    <tr>\n",
              "      <th>4</th>\n",
              "      <td>Afghanistan</td>\n",
              "      <td>Asia</td>\n",
              "      <td>1972</td>\n",
              "      <td>36.088</td>\n",
              "      <td>13079460</td>\n",
              "      <td>739.981106</td>\n",
              "    </tr>\n",
              "  </tbody>\n",
              "</table>\n",
              "</div>"
            ],
            "text/plain": [
              "       country continent  year  lifeExpectancy  population  gdpPerCapita\n",
              "0  Afghanistan      Asia  1952          28.801     8425333    779.445314\n",
              "1  Afghanistan      Asia  1957          30.332     9240934    820.853030\n",
              "2  Afghanistan      Asia  1962          31.997    10267083    853.100710\n",
              "3  Afghanistan      Asia  1967          34.020    11537966    836.197138\n",
              "4  Afghanistan      Asia  1972          36.088    13079460    739.981106"
            ]
          },
          "metadata": {
            "tags": []
          },
          "execution_count": 83
        }
      ]
    },
    {
      "cell_type": "code",
      "metadata": {
        "id": "cLw9YPDw-Dls",
        "colab_type": "code",
        "colab": {
          "base_uri": "https://localhost:8080/",
          "height": 119
        },
        "outputId": "99a999dc-34a2-41bc-d466-d2d53c274fc5"
      },
      "source": [
        "#Agora vamos filtrar os paises da america selecionando uma vez cada pais com unique\n",
        "data[data.continent=='Americas'].country.unique()"
      ],
      "execution_count": null,
      "outputs": [
        {
          "output_type": "execute_result",
          "data": {
            "text/plain": [
              "array(['Argentina', 'Bolivia', 'Brazil', 'Canada', 'Chile', 'Colombia',\n",
              "       'Costa Rica', 'Cuba', 'Dominican Republic', 'Ecuador',\n",
              "       'El Salvador', 'Guatemala', 'Haiti', 'Honduras', 'Jamaica',\n",
              "       'Mexico', 'Nicaragua', 'Panama', 'Paraguay', 'Peru', 'Puerto Rico',\n",
              "       'Trinidad and Tobago', 'United States', 'Uruguay', 'Venezuela'],\n",
              "      dtype=object)"
            ]
          },
          "metadata": {
            "tags": []
          },
          "execution_count": 84
        }
      ]
    },
    {
      "cell_type": "code",
      "metadata": {
        "id": "H_PNEpfd_Chn",
        "colab_type": "code",
        "colab": {
          "base_uri": "https://localhost:8080/",
          "height": 204
        },
        "outputId": "86ee77a9-a959-4d43-f2e3-57f3ddebe617"
      },
      "source": [
        "\n",
        "lista_paises_filtrar = ['Brazil','Argentina','Bolivia']#cria uma lista com alguns paises\n",
        "paises_filtro = data[data.country.isin(lista_paises_filtrar)]#cria um filtro com isin com os paises da lista acima\n",
        "paises_filtro.head()#imprime 5 linhas do novo arquivo filtrado\n"
      ],
      "execution_count": null,
      "outputs": [
        {
          "output_type": "execute_result",
          "data": {
            "text/html": [
              "<div>\n",
              "<style scoped>\n",
              "    .dataframe tbody tr th:only-of-type {\n",
              "        vertical-align: middle;\n",
              "    }\n",
              "\n",
              "    .dataframe tbody tr th {\n",
              "        vertical-align: top;\n",
              "    }\n",
              "\n",
              "    .dataframe thead th {\n",
              "        text-align: right;\n",
              "    }\n",
              "</style>\n",
              "<table border=\"1\" class=\"dataframe\">\n",
              "  <thead>\n",
              "    <tr style=\"text-align: right;\">\n",
              "      <th></th>\n",
              "      <th>country</th>\n",
              "      <th>continent</th>\n",
              "      <th>year</th>\n",
              "      <th>lifeExpectancy</th>\n",
              "      <th>population</th>\n",
              "      <th>gdpPerCapita</th>\n",
              "    </tr>\n",
              "  </thead>\n",
              "  <tbody>\n",
              "    <tr>\n",
              "      <th>48</th>\n",
              "      <td>Argentina</td>\n",
              "      <td>Americas</td>\n",
              "      <td>1952</td>\n",
              "      <td>62.485</td>\n",
              "      <td>17876956</td>\n",
              "      <td>5911.315053</td>\n",
              "    </tr>\n",
              "    <tr>\n",
              "      <th>49</th>\n",
              "      <td>Argentina</td>\n",
              "      <td>Americas</td>\n",
              "      <td>1957</td>\n",
              "      <td>64.399</td>\n",
              "      <td>19610538</td>\n",
              "      <td>6856.856212</td>\n",
              "    </tr>\n",
              "    <tr>\n",
              "      <th>50</th>\n",
              "      <td>Argentina</td>\n",
              "      <td>Americas</td>\n",
              "      <td>1962</td>\n",
              "      <td>65.142</td>\n",
              "      <td>21283783</td>\n",
              "      <td>7133.166023</td>\n",
              "    </tr>\n",
              "    <tr>\n",
              "      <th>51</th>\n",
              "      <td>Argentina</td>\n",
              "      <td>Americas</td>\n",
              "      <td>1967</td>\n",
              "      <td>65.634</td>\n",
              "      <td>22934225</td>\n",
              "      <td>8052.953021</td>\n",
              "    </tr>\n",
              "    <tr>\n",
              "      <th>52</th>\n",
              "      <td>Argentina</td>\n",
              "      <td>Americas</td>\n",
              "      <td>1972</td>\n",
              "      <td>67.065</td>\n",
              "      <td>24779799</td>\n",
              "      <td>9443.038526</td>\n",
              "    </tr>\n",
              "  </tbody>\n",
              "</table>\n",
              "</div>"
            ],
            "text/plain": [
              "      country continent  year  lifeExpectancy  population  gdpPerCapita\n",
              "48  Argentina  Americas  1952          62.485    17876956   5911.315053\n",
              "49  Argentina  Americas  1957          64.399    19610538   6856.856212\n",
              "50  Argentina  Americas  1962          65.142    21283783   7133.166023\n",
              "51  Argentina  Americas  1967          65.634    22934225   8052.953021\n",
              "52  Argentina  Americas  1972          67.065    24779799   9443.038526"
            ]
          },
          "metadata": {
            "tags": []
          },
          "execution_count": 85
        }
      ]
    },
    {
      "cell_type": "code",
      "metadata": {
        "id": "DOCMg4HGBQJC",
        "colab_type": "code",
        "colab": {
          "base_uri": "https://localhost:8080/",
          "height": 326
        },
        "outputId": "87c93e4c-ff0b-484d-b04f-671946ae4493"
      },
      "source": [
        "#criando nova coluna da variavel que criei acima somando as colunas lifeexpectancy e gdpercapita\n",
        "paises_filtro['NovaColSomaExpec_DdPerc'] = paises_filtro['lifeExpectancy'] + paises_filtro['gdpPerCapita'] \n",
        "paises_filtro.head()#imprime as 5 primeiras linhas"
      ],
      "execution_count": null,
      "outputs": [
        {
          "output_type": "stream",
          "text": [
            "/usr/local/lib/python3.6/dist-packages/ipykernel_launcher.py:2: SettingWithCopyWarning: \n",
            "A value is trying to be set on a copy of a slice from a DataFrame.\n",
            "Try using .loc[row_indexer,col_indexer] = value instead\n",
            "\n",
            "See the caveats in the documentation: https://pandas.pydata.org/pandas-docs/stable/user_guide/indexing.html#returning-a-view-versus-a-copy\n",
            "  \n"
          ],
          "name": "stderr"
        },
        {
          "output_type": "execute_result",
          "data": {
            "text/html": [
              "<div>\n",
              "<style scoped>\n",
              "    .dataframe tbody tr th:only-of-type {\n",
              "        vertical-align: middle;\n",
              "    }\n",
              "\n",
              "    .dataframe tbody tr th {\n",
              "        vertical-align: top;\n",
              "    }\n",
              "\n",
              "    .dataframe thead th {\n",
              "        text-align: right;\n",
              "    }\n",
              "</style>\n",
              "<table border=\"1\" class=\"dataframe\">\n",
              "  <thead>\n",
              "    <tr style=\"text-align: right;\">\n",
              "      <th></th>\n",
              "      <th>country</th>\n",
              "      <th>continent</th>\n",
              "      <th>year</th>\n",
              "      <th>lifeExpectancy</th>\n",
              "      <th>population</th>\n",
              "      <th>gdpPerCapita</th>\n",
              "      <th>NovaColSomaExpec_DdPerc</th>\n",
              "    </tr>\n",
              "  </thead>\n",
              "  <tbody>\n",
              "    <tr>\n",
              "      <th>48</th>\n",
              "      <td>Argentina</td>\n",
              "      <td>Americas</td>\n",
              "      <td>1952</td>\n",
              "      <td>62.485</td>\n",
              "      <td>17876956</td>\n",
              "      <td>5911.315053</td>\n",
              "      <td>5973.800053</td>\n",
              "    </tr>\n",
              "    <tr>\n",
              "      <th>49</th>\n",
              "      <td>Argentina</td>\n",
              "      <td>Americas</td>\n",
              "      <td>1957</td>\n",
              "      <td>64.399</td>\n",
              "      <td>19610538</td>\n",
              "      <td>6856.856212</td>\n",
              "      <td>6921.255212</td>\n",
              "    </tr>\n",
              "    <tr>\n",
              "      <th>50</th>\n",
              "      <td>Argentina</td>\n",
              "      <td>Americas</td>\n",
              "      <td>1962</td>\n",
              "      <td>65.142</td>\n",
              "      <td>21283783</td>\n",
              "      <td>7133.166023</td>\n",
              "      <td>7198.308023</td>\n",
              "    </tr>\n",
              "    <tr>\n",
              "      <th>51</th>\n",
              "      <td>Argentina</td>\n",
              "      <td>Americas</td>\n",
              "      <td>1967</td>\n",
              "      <td>65.634</td>\n",
              "      <td>22934225</td>\n",
              "      <td>8052.953021</td>\n",
              "      <td>8118.587021</td>\n",
              "    </tr>\n",
              "    <tr>\n",
              "      <th>52</th>\n",
              "      <td>Argentina</td>\n",
              "      <td>Americas</td>\n",
              "      <td>1972</td>\n",
              "      <td>67.065</td>\n",
              "      <td>24779799</td>\n",
              "      <td>9443.038526</td>\n",
              "      <td>9510.103526</td>\n",
              "    </tr>\n",
              "  </tbody>\n",
              "</table>\n",
              "</div>"
            ],
            "text/plain": [
              "      country continent  ...  gdpPerCapita  NovaColSomaExpec_DdPerc\n",
              "48  Argentina  Americas  ...   5911.315053              5973.800053\n",
              "49  Argentina  Americas  ...   6856.856212              6921.255212\n",
              "50  Argentina  Americas  ...   7133.166023              7198.308023\n",
              "51  Argentina  Americas  ...   8052.953021              8118.587021\n",
              "52  Argentina  Americas  ...   9443.038526              9510.103526\n",
              "\n",
              "[5 rows x 7 columns]"
            ]
          },
          "metadata": {
            "tags": []
          },
          "execution_count": 86
        }
      ]
    },
    {
      "cell_type": "code",
      "metadata": {
        "id": "M082Zza2BrqM",
        "colab_type": "code",
        "colab": {
          "base_uri": "https://localhost:8080/",
          "height": 241
        },
        "outputId": "5ddba69e-ed7f-4e70-b036-2dd45158cb4f"
      },
      "source": [
        "#criar uma variavel dados brasil com filro do pais Brasil\n",
        "dados_Brasil = data[data['country'] == 'Brazil']\n",
        "#criar uma nova coluna chamada pib bruto que e a multiplicao de populacao pr per capta\n",
        "dados_Brasil['pib bruto'] = dados_Brasil['population']*dados_Brasil['gdpPerCapita']\n",
        "#refaz a coluna pib bruto convertendo os valores para inteiro com astype\n",
        "dados_Brasil['pib bruto'] = dados_Brasil['pib bruto'].astype(int)"
      ],
      "execution_count": null,
      "outputs": [
        {
          "output_type": "stream",
          "text": [
            "/usr/local/lib/python3.6/dist-packages/ipykernel_launcher.py:4: SettingWithCopyWarning: \n",
            "A value is trying to be set on a copy of a slice from a DataFrame.\n",
            "Try using .loc[row_indexer,col_indexer] = value instead\n",
            "\n",
            "See the caveats in the documentation: https://pandas.pydata.org/pandas-docs/stable/user_guide/indexing.html#returning-a-view-versus-a-copy\n",
            "  after removing the cwd from sys.path.\n",
            "/usr/local/lib/python3.6/dist-packages/ipykernel_launcher.py:6: SettingWithCopyWarning: \n",
            "A value is trying to be set on a copy of a slice from a DataFrame.\n",
            "Try using .loc[row_indexer,col_indexer] = value instead\n",
            "\n",
            "See the caveats in the documentation: https://pandas.pydata.org/pandas-docs/stable/user_guide/indexing.html#returning-a-view-versus-a-copy\n",
            "  \n"
          ],
          "name": "stderr"
        }
      ]
    },
    {
      "cell_type": "code",
      "metadata": {
        "id": "fUUxGUOwD7RR",
        "colab_type": "code",
        "colab": {
          "base_uri": "https://localhost:8080/",
          "height": 204
        },
        "outputId": "770bc0a4-448c-4a13-bb77-b495278e03dc"
      },
      "source": [
        "dados_Brasil.head()#cria primeiras linhas"
      ],
      "execution_count": null,
      "outputs": [
        {
          "output_type": "execute_result",
          "data": {
            "text/html": [
              "<div>\n",
              "<style scoped>\n",
              "    .dataframe tbody tr th:only-of-type {\n",
              "        vertical-align: middle;\n",
              "    }\n",
              "\n",
              "    .dataframe tbody tr th {\n",
              "        vertical-align: top;\n",
              "    }\n",
              "\n",
              "    .dataframe thead th {\n",
              "        text-align: right;\n",
              "    }\n",
              "</style>\n",
              "<table border=\"1\" class=\"dataframe\">\n",
              "  <thead>\n",
              "    <tr style=\"text-align: right;\">\n",
              "      <th></th>\n",
              "      <th>country</th>\n",
              "      <th>continent</th>\n",
              "      <th>year</th>\n",
              "      <th>lifeExpectancy</th>\n",
              "      <th>population</th>\n",
              "      <th>gdpPerCapita</th>\n",
              "      <th>pib bruto</th>\n",
              "    </tr>\n",
              "  </thead>\n",
              "  <tbody>\n",
              "    <tr>\n",
              "      <th>168</th>\n",
              "      <td>Brazil</td>\n",
              "      <td>Americas</td>\n",
              "      <td>1952</td>\n",
              "      <td>50.917</td>\n",
              "      <td>56602560</td>\n",
              "      <td>2108.944355</td>\n",
              "      <td>119371649390</td>\n",
              "    </tr>\n",
              "    <tr>\n",
              "      <th>169</th>\n",
              "      <td>Brazil</td>\n",
              "      <td>Americas</td>\n",
              "      <td>1957</td>\n",
              "      <td>53.285</td>\n",
              "      <td>65551171</td>\n",
              "      <td>2487.365989</td>\n",
              "      <td>163049753284</td>\n",
              "    </tr>\n",
              "    <tr>\n",
              "      <th>170</th>\n",
              "      <td>Brazil</td>\n",
              "      <td>Americas</td>\n",
              "      <td>1962</td>\n",
              "      <td>55.665</td>\n",
              "      <td>76039390</td>\n",
              "      <td>3336.585802</td>\n",
              "      <td>253711949066</td>\n",
              "    </tr>\n",
              "    <tr>\n",
              "      <th>171</th>\n",
              "      <td>Brazil</td>\n",
              "      <td>Americas</td>\n",
              "      <td>1967</td>\n",
              "      <td>57.632</td>\n",
              "      <td>88049823</td>\n",
              "      <td>3429.864357</td>\n",
              "      <td>301998949547</td>\n",
              "    </tr>\n",
              "    <tr>\n",
              "      <th>172</th>\n",
              "      <td>Brazil</td>\n",
              "      <td>Americas</td>\n",
              "      <td>1972</td>\n",
              "      <td>59.504</td>\n",
              "      <td>100840058</td>\n",
              "      <td>4985.711467</td>\n",
              "      <td>502759433503</td>\n",
              "    </tr>\n",
              "  </tbody>\n",
              "</table>\n",
              "</div>"
            ],
            "text/plain": [
              "    country continent  year  ...  population  gdpPerCapita     pib bruto\n",
              "168  Brazil  Americas  1952  ...    56602560   2108.944355  119371649390\n",
              "169  Brazil  Americas  1957  ...    65551171   2487.365989  163049753284\n",
              "170  Brazil  Americas  1962  ...    76039390   3336.585802  253711949066\n",
              "171  Brazil  Americas  1967  ...    88049823   3429.864357  301998949547\n",
              "172  Brazil  Americas  1972  ...   100840058   4985.711467  502759433503\n",
              "\n",
              "[5 rows x 7 columns]"
            ]
          },
          "metadata": {
            "tags": []
          },
          "execution_count": 88
        }
      ]
    },
    {
      "cell_type": "code",
      "metadata": {
        "id": "MWZoAXHaFG7I",
        "colab_type": "code",
        "colab": {}
      },
      "source": [
        "#cria variaveis com os filtros por pais - cada variavel\n",
        "Afeganistao = data[data.country == \"Afghanistan\"]\n",
        "Brasil = data[data.country == \"Brazil\"]\n",
        "Germany = data[data.country == \"Germany\"]\n",
        "EUA = data[data.country == \"United States\"]"
      ],
      "execution_count": null,
      "outputs": []
    },
    {
      "cell_type": "code",
      "metadata": {
        "id": "7bcCMzPFGtAc",
        "colab_type": "code",
        "colab": {
          "base_uri": "https://localhost:8080/",
          "height": 281
        },
        "outputId": "351a1d32-352a-4723-d6fe-ce824f96902e"
      },
      "source": [
        "plt.plot(Afeganistao.year , Afeganistao.gdpPerCapita)#Plota grafico de linhas\n",
        "plt.title(\"PIB PER CAPTA AFEGANISTAO X ANO\")#criar um titulo\n",
        "plt.show()#exibe o grafico"
      ],
      "execution_count": null,
      "outputs": [
        {
          "output_type": "display_data",
          "data": {
            "image/png": "[encoded data removed]",
            "text/plain": [
              "<Figure size 432x288 with 1 Axes>"
            ]
          },
          "metadata": {
            "tags": [],
            "needs_background": "light"
          }
        }
      ]
    },
    {
      "cell_type": "code",
      "metadata": {
        "id": "-pwmOvTyIab1",
        "colab_type": "code",
        "colab": {
          "base_uri": "https://localhost:8080/",
          "height": 281
        },
        "outputId": "9cd8d45e-8faf-4b2a-d2c5-13054dc4da46"
      },
      "source": [
        "plt.plot(Afeganistao.year , Afeganistao.gdpPerCapita) #plot afeganistao\n",
        "plt.plot(Brasil.year, Brasil.gdpPerCapita)#plot Brasil\n",
        "plt.plot(Germany.year , Germany.gdpPerCapita)#plot Alemanha\n",
        "plt.plot(EUA.year , EUA.gdpPerCapita)#plot USA\n",
        "plt.title(\"PIB PER CAPTA BRASIL X ANO\")#cria titulo\n",
        "plt.legend(['Afeganistao','Brasil','Alemanha','USA'])#cria legenda de acodo com paises\n",
        "plt.show()#exibe grafico"
      ],
      "execution_count": null,
      "outputs": [
        {
          "output_type": "display_data",
          "data": {
            "image/png": "[encoded data removed]",
            "text/plain": [
              "<Figure size 432x288 with 1 Axes>"
            ]
          },
          "metadata": {
            "tags": [],
            "needs_background": "light"
          }
        }
      ]
    },
    {
      "cell_type": "code",
      "metadata": {
        "id": "xoHqDy1tIg2B",
        "colab_type": "code",
        "colab": {
          "base_uri": "https://localhost:8080/",
          "height": 34
        },
        "outputId": "32e43e15-f512-4422-b33b-29c3f6520ead"
      },
      "source": [
        "set(data.continent)#filtra os dados unicos da coluna continet da tabela data"
      ],
      "execution_count": null,
      "outputs": [
        {
          "output_type": "execute_result",
          "data": {
            "text/plain": [
              "{'Africa', 'Americas', 'Asia', 'Europe', 'Oceania'}"
            ]
          },
          "metadata": {
            "tags": []
          },
          "execution_count": 52
        }
      ]
    },
    {
      "cell_type": "code",
      "metadata": {
        "id": "UdIjdHTDJWzE",
        "colab_type": "code",
        "colab": {
          "base_uri": "https://localhost:8080/",
          "height": 204
        },
        "outputId": "91e1dc78-05e1-404c-e6da-e4cabd520776"
      },
      "source": [
        "data_2007 = data[data.year==2007]#iltra os dados do ano igual a 2007\n",
        "data_2007.head()"
      ],
      "execution_count": null,
      "outputs": [
        {
          "output_type": "execute_result",
          "data": {
            "text/html": [
              "<div>\n",
              "<style scoped>\n",
              "    .dataframe tbody tr th:only-of-type {\n",
              "        vertical-align: middle;\n",
              "    }\n",
              "\n",
              "    .dataframe tbody tr th {\n",
              "        vertical-align: top;\n",
              "    }\n",
              "\n",
              "    .dataframe thead th {\n",
              "        text-align: right;\n",
              "    }\n",
              "</style>\n",
              "<table border=\"1\" class=\"dataframe\">\n",
              "  <thead>\n",
              "    <tr style=\"text-align: right;\">\n",
              "      <th></th>\n",
              "      <th>country</th>\n",
              "      <th>continent</th>\n",
              "      <th>year</th>\n",
              "      <th>lifeExpectancy</th>\n",
              "      <th>population</th>\n",
              "      <th>gdpPerCapita</th>\n",
              "    </tr>\n",
              "  </thead>\n",
              "  <tbody>\n",
              "    <tr>\n",
              "      <th>11</th>\n",
              "      <td>Afghanistan</td>\n",
              "      <td>Asia</td>\n",
              "      <td>2007</td>\n",
              "      <td>43.828</td>\n",
              "      <td>31889923</td>\n",
              "      <td>974.580338</td>\n",
              "    </tr>\n",
              "    <tr>\n",
              "      <th>23</th>\n",
              "      <td>Albania</td>\n",
              "      <td>Europe</td>\n",
              "      <td>2007</td>\n",
              "      <td>76.423</td>\n",
              "      <td>3600523</td>\n",
              "      <td>5937.029526</td>\n",
              "    </tr>\n",
              "    <tr>\n",
              "      <th>35</th>\n",
              "      <td>Algeria</td>\n",
              "      <td>Africa</td>\n",
              "      <td>2007</td>\n",
              "      <td>72.301</td>\n",
              "      <td>33333216</td>\n",
              "      <td>6223.367465</td>\n",
              "    </tr>\n",
              "    <tr>\n",
              "      <th>47</th>\n",
              "      <td>Angola</td>\n",
              "      <td>Africa</td>\n",
              "      <td>2007</td>\n",
              "      <td>42.731</td>\n",
              "      <td>12420476</td>\n",
              "      <td>4797.231267</td>\n",
              "    </tr>\n",
              "    <tr>\n",
              "      <th>59</th>\n",
              "      <td>Argentina</td>\n",
              "      <td>Americas</td>\n",
              "      <td>2007</td>\n",
              "      <td>75.320</td>\n",
              "      <td>40301927</td>\n",
              "      <td>12779.379640</td>\n",
              "    </tr>\n",
              "  </tbody>\n",
              "</table>\n",
              "</div>"
            ],
            "text/plain": [
              "        country continent  year  lifeExpectancy  population  gdpPerCapita\n",
              "11  Afghanistan      Asia  2007          43.828    31889923    974.580338\n",
              "23      Albania    Europe  2007          76.423     3600523   5937.029526\n",
              "35      Algeria    Africa  2007          72.301    33333216   6223.367465\n",
              "47       Angola    Africa  2007          42.731    12420476   4797.231267\n",
              "59    Argentina  Americas  2007          75.320    40301927  12779.379640"
            ]
          },
          "metadata": {
            "tags": []
          },
          "execution_count": 55
        }
      ]
    },
    {
      "cell_type": "code",
      "metadata": {
        "id": "hstsJKPIJg7e",
        "colab_type": "code",
        "colab": {
          "base_uri": "https://localhost:8080/",
          "height": 204
        },
        "outputId": "afb0c617-4e5a-495b-c02f-dc65324873a5"
      },
      "source": [
        "data_2000_antes = data[data.year < 2000]#iltra os dados do ano antes de 2000\n",
        "data_2000_antes.head()"
      ],
      "execution_count": null,
      "outputs": [
        {
          "output_type": "execute_result",
          "data": {
            "text/html": [
              "<div>\n",
              "<style scoped>\n",
              "    .dataframe tbody tr th:only-of-type {\n",
              "        vertical-align: middle;\n",
              "    }\n",
              "\n",
              "    .dataframe tbody tr th {\n",
              "        vertical-align: top;\n",
              "    }\n",
              "\n",
              "    .dataframe thead th {\n",
              "        text-align: right;\n",
              "    }\n",
              "</style>\n",
              "<table border=\"1\" class=\"dataframe\">\n",
              "  <thead>\n",
              "    <tr style=\"text-align: right;\">\n",
              "      <th></th>\n",
              "      <th>country</th>\n",
              "      <th>continent</th>\n",
              "      <th>year</th>\n",
              "      <th>lifeExpectancy</th>\n",
              "      <th>population</th>\n",
              "      <th>gdpPerCapita</th>\n",
              "    </tr>\n",
              "  </thead>\n",
              "  <tbody>\n",
              "    <tr>\n",
              "      <th>0</th>\n",
              "      <td>Afghanistan</td>\n",
              "      <td>Asia</td>\n",
              "      <td>1952</td>\n",
              "      <td>28.801</td>\n",
              "      <td>8425333</td>\n",
              "      <td>779.445314</td>\n",
              "    </tr>\n",
              "    <tr>\n",
              "      <th>1</th>\n",
              "      <td>Afghanistan</td>\n",
              "      <td>Asia</td>\n",
              "      <td>1957</td>\n",
              "      <td>30.332</td>\n",
              "      <td>9240934</td>\n",
              "      <td>820.853030</td>\n",
              "    </tr>\n",
              "    <tr>\n",
              "      <th>2</th>\n",
              "      <td>Afghanistan</td>\n",
              "      <td>Asia</td>\n",
              "      <td>1962</td>\n",
              "      <td>31.997</td>\n",
              "      <td>10267083</td>\n",
              "      <td>853.100710</td>\n",
              "    </tr>\n",
              "    <tr>\n",
              "      <th>3</th>\n",
              "      <td>Afghanistan</td>\n",
              "      <td>Asia</td>\n",
              "      <td>1967</td>\n",
              "      <td>34.020</td>\n",
              "      <td>11537966</td>\n",
              "      <td>836.197138</td>\n",
              "    </tr>\n",
              "    <tr>\n",
              "      <th>4</th>\n",
              "      <td>Afghanistan</td>\n",
              "      <td>Asia</td>\n",
              "      <td>1972</td>\n",
              "      <td>36.088</td>\n",
              "      <td>13079460</td>\n",
              "      <td>739.981106</td>\n",
              "    </tr>\n",
              "  </tbody>\n",
              "</table>\n",
              "</div>"
            ],
            "text/plain": [
              "       country continent  year  lifeExpectancy  population  gdpPerCapita\n",
              "0  Afghanistan      Asia  1952          28.801     8425333    779.445314\n",
              "1  Afghanistan      Asia  1957          30.332     9240934    820.853030\n",
              "2  Afghanistan      Asia  1962          31.997    10267083    853.100710\n",
              "3  Afghanistan      Asia  1967          34.020    11537966    836.197138\n",
              "4  Afghanistan      Asia  1972          36.088    13079460    739.981106"
            ]
          },
          "metadata": {
            "tags": []
          },
          "execution_count": 56
        }
      ]
    },
    {
      "cell_type": "code",
      "metadata": {
        "id": "saPDxrYGJyyQ",
        "colab_type": "code",
        "colab": {
          "base_uri": "https://localhost:8080/",
          "height": 204
        },
        "outputId": "7b9d5662-ab89-40ef-faa9-216f563c5043"
      },
      "source": [
        "#filtra do arquivo que criei acima com nome data_2007 , os valores que estao no continetn Asia\n",
        "#abaix ma linha de comando siginifca que na varivael asia_2007 quer extrair os dados de data_2007 onde data_2007\n",
        "#seja igual a Asia\n",
        "asia_2007 = data_2007[data_2007.continent == 'Asia']\n",
        "asia_2007.head()"
      ],
      "execution_count": null,
      "outputs": [
        {
          "output_type": "execute_result",
          "data": {
            "text/html": [
              "<div>\n",
              "<style scoped>\n",
              "    .dataframe tbody tr th:only-of-type {\n",
              "        vertical-align: middle;\n",
              "    }\n",
              "\n",
              "    .dataframe tbody tr th {\n",
              "        vertical-align: top;\n",
              "    }\n",
              "\n",
              "    .dataframe thead th {\n",
              "        text-align: right;\n",
              "    }\n",
              "</style>\n",
              "<table border=\"1\" class=\"dataframe\">\n",
              "  <thead>\n",
              "    <tr style=\"text-align: right;\">\n",
              "      <th></th>\n",
              "      <th>country</th>\n",
              "      <th>continent</th>\n",
              "      <th>year</th>\n",
              "      <th>lifeExpectancy</th>\n",
              "      <th>population</th>\n",
              "      <th>gdpPerCapita</th>\n",
              "    </tr>\n",
              "  </thead>\n",
              "  <tbody>\n",
              "    <tr>\n",
              "      <th>11</th>\n",
              "      <td>Afghanistan</td>\n",
              "      <td>Asia</td>\n",
              "      <td>2007</td>\n",
              "      <td>43.828</td>\n",
              "      <td>31889923</td>\n",
              "      <td>974.580338</td>\n",
              "    </tr>\n",
              "    <tr>\n",
              "      <th>95</th>\n",
              "      <td>Bahrain</td>\n",
              "      <td>Asia</td>\n",
              "      <td>2007</td>\n",
              "      <td>75.635</td>\n",
              "      <td>708573</td>\n",
              "      <td>29796.048340</td>\n",
              "    </tr>\n",
              "    <tr>\n",
              "      <th>107</th>\n",
              "      <td>Bangladesh</td>\n",
              "      <td>Asia</td>\n",
              "      <td>2007</td>\n",
              "      <td>64.062</td>\n",
              "      <td>150448339</td>\n",
              "      <td>1391.253792</td>\n",
              "    </tr>\n",
              "    <tr>\n",
              "      <th>227</th>\n",
              "      <td>Cambodia</td>\n",
              "      <td>Asia</td>\n",
              "      <td>2007</td>\n",
              "      <td>59.723</td>\n",
              "      <td>14131858</td>\n",
              "      <td>1713.778686</td>\n",
              "    </tr>\n",
              "    <tr>\n",
              "      <th>299</th>\n",
              "      <td>China</td>\n",
              "      <td>Asia</td>\n",
              "      <td>2007</td>\n",
              "      <td>72.961</td>\n",
              "      <td>1318683096</td>\n",
              "      <td>4959.114854</td>\n",
              "    </tr>\n",
              "  </tbody>\n",
              "</table>\n",
              "</div>"
            ],
            "text/plain": [
              "         country continent  year  lifeExpectancy  population  gdpPerCapita\n",
              "11   Afghanistan      Asia  2007          43.828    31889923    974.580338\n",
              "95       Bahrain      Asia  2007          75.635      708573  29796.048340\n",
              "107   Bangladesh      Asia  2007          64.062   150448339   1391.253792\n",
              "227     Cambodia      Asia  2007          59.723    14131858   1713.778686\n",
              "299        China      Asia  2007          72.961  1318683096   4959.114854"
            ]
          },
          "metadata": {
            "tags": []
          },
          "execution_count": 59
        }
      ]
    },
    {
      "cell_type": "code",
      "metadata": {
        "id": "uwfEP9e4Kti3",
        "colab_type": "code",
        "colab": {
          "base_uri": "https://localhost:8080/",
          "height": 204
        },
        "outputId": "93ab2e03-b059-4fff-d693-2436004a6e38"
      },
      "source": [
        "#filtra do arquivo que criei acima com nome data_2007 , os valores que estao no continetn Asia\n",
        "#abaix ma linha de comando siginifca que na varivael asia_2007 quer extrair os dados de data_2007 onde data_2007\n",
        "#seja igual a Asia\n",
        "europe_2007 = data_2007[data_2007.continent == 'Europe']\n",
        "europe_2007.head()"
      ],
      "execution_count": null,
      "outputs": [
        {
          "output_type": "execute_result",
          "data": {
            "text/html": [
              "<div>\n",
              "<style scoped>\n",
              "    .dataframe tbody tr th:only-of-type {\n",
              "        vertical-align: middle;\n",
              "    }\n",
              "\n",
              "    .dataframe tbody tr th {\n",
              "        vertical-align: top;\n",
              "    }\n",
              "\n",
              "    .dataframe thead th {\n",
              "        text-align: right;\n",
              "    }\n",
              "</style>\n",
              "<table border=\"1\" class=\"dataframe\">\n",
              "  <thead>\n",
              "    <tr style=\"text-align: right;\">\n",
              "      <th></th>\n",
              "      <th>country</th>\n",
              "      <th>continent</th>\n",
              "      <th>year</th>\n",
              "      <th>lifeExpectancy</th>\n",
              "      <th>population</th>\n",
              "      <th>gdpPerCapita</th>\n",
              "    </tr>\n",
              "  </thead>\n",
              "  <tbody>\n",
              "    <tr>\n",
              "      <th>23</th>\n",
              "      <td>Albania</td>\n",
              "      <td>Europe</td>\n",
              "      <td>2007</td>\n",
              "      <td>76.423</td>\n",
              "      <td>3600523</td>\n",
              "      <td>5937.029526</td>\n",
              "    </tr>\n",
              "    <tr>\n",
              "      <th>83</th>\n",
              "      <td>Austria</td>\n",
              "      <td>Europe</td>\n",
              "      <td>2007</td>\n",
              "      <td>79.829</td>\n",
              "      <td>8199783</td>\n",
              "      <td>36126.492700</td>\n",
              "    </tr>\n",
              "    <tr>\n",
              "      <th>119</th>\n",
              "      <td>Belgium</td>\n",
              "      <td>Europe</td>\n",
              "      <td>2007</td>\n",
              "      <td>79.441</td>\n",
              "      <td>10392226</td>\n",
              "      <td>33692.605080</td>\n",
              "    </tr>\n",
              "    <tr>\n",
              "      <th>155</th>\n",
              "      <td>Bosnia and Herzegovina</td>\n",
              "      <td>Europe</td>\n",
              "      <td>2007</td>\n",
              "      <td>74.852</td>\n",
              "      <td>4552198</td>\n",
              "      <td>7446.298803</td>\n",
              "    </tr>\n",
              "    <tr>\n",
              "      <th>191</th>\n",
              "      <td>Bulgaria</td>\n",
              "      <td>Europe</td>\n",
              "      <td>2007</td>\n",
              "      <td>73.005</td>\n",
              "      <td>7322858</td>\n",
              "      <td>10680.792820</td>\n",
              "    </tr>\n",
              "  </tbody>\n",
              "</table>\n",
              "</div>"
            ],
            "text/plain": [
              "                    country continent  ...  population  gdpPerCapita\n",
              "23                  Albania    Europe  ...     3600523   5937.029526\n",
              "83                  Austria    Europe  ...     8199783  36126.492700\n",
              "119                 Belgium    Europe  ...    10392226  33692.605080\n",
              "155  Bosnia and Herzegovina    Europe  ...     4552198   7446.298803\n",
              "191                Bulgaria    Europe  ...     7322858  10680.792820\n",
              "\n",
              "[5 rows x 6 columns]"
            ]
          },
          "metadata": {
            "tags": []
          },
          "execution_count": 60
        }
      ]
    },
    {
      "cell_type": "code",
      "metadata": {
        "id": "UdxJ_qnBLuVD",
        "colab_type": "code",
        "colab": {
          "base_uri": "https://localhost:8080/",
          "height": 34
        },
        "outputId": "c19c7f7d-caad-43a1-890e-425ba79db015"
      },
      "source": [
        "#verifica o tamanho da lista de paises da variavel asia_2007 \n",
        "len(set(asia_2007.country))"
      ],
      "execution_count": null,
      "outputs": [
        {
          "output_type": "execute_result",
          "data": {
            "text/plain": [
              "33"
            ]
          },
          "metadata": {
            "tags": []
          },
          "execution_count": 64
        }
      ]
    },
    {
      "cell_type": "code",
      "metadata": {
        "id": "vT2LIFRjL6s_",
        "colab_type": "code",
        "colab": {
          "base_uri": "https://localhost:8080/",
          "height": 34
        },
        "outputId": "4544fbc0-7533-4775-f492-82173390771f"
      },
      "source": [
        "#verifica o tamanho da lista de paises da variavel europe_2007 \n",
        "len(set(europe_2007.country))"
      ],
      "execution_count": null,
      "outputs": [
        {
          "output_type": "execute_result",
          "data": {
            "text/plain": [
              "30"
            ]
          },
          "metadata": {
            "tags": []
          },
          "execution_count": 66
        }
      ]
    },
    {
      "cell_type": "code",
      "metadata": {
        "id": "iVPjDG_8MEVU",
        "colab_type": "code",
        "colab": {
          "base_uri": "https://localhost:8080/",
          "height": 289
        },
        "outputId": "50f53738-80ee-493a-b745-a4f151ebcfb3"
      },
      "source": [
        "print('Media PIB - Asia:')\n",
        "print(asia_2007.gdpPerCapita.mean())\n",
        "print('Media PIB - Europa:')\n",
        "print(europe_2007.gdpPerCapita.mean())\n",
        "print('\\n')\n",
        "print('Mediana PIB - Asia:')\n",
        "print(asia_2007.gdpPerCapita.median())\n",
        "print('Mediana PIB - Europa:')\n",
        "print(europe_2007.gdpPerCapita.median())\n",
        "print('\\n')\n",
        "print('MAX PIB - Asia:')\n",
        "print(asia_2007.gdpPerCapita.max())\n",
        "print('MAX PIB - Europa:')\n",
        "print(europe_2007.gdpPerCapita.max())"
      ],
      "execution_count": null,
      "outputs": [
        {
          "output_type": "stream",
          "text": [
            "Media PIB - Asia:\n",
            "12473.02687013333\n",
            "Media PIB - Europa:\n",
            "25054.481635933327\n",
            "\n",
            "\n",
            "Mediana PIB - Asia:\n",
            "4471.061906\n",
            "Mediana PIB - Europa:\n",
            "28054.06579\n",
            "\n",
            "\n",
            "MAX PIB - Asia:\n",
            "47306.98978\n",
            "MAX PIB - Europa:\n",
            "49357.19017\n"
          ],
          "name": "stdout"
        }
      ]
    },
    {
      "cell_type": "code",
      "metadata": {
        "id": "lgfyPfrRM2g5",
        "colab_type": "code",
        "colab": {
          "base_uri": "https://localhost:8080/",
          "height": 281
        },
        "outputId": "ad5ce6bd-56af-476a-c8f5-59040da6e0e4"
      },
      "source": [
        "plt.title('Distribuição Per capta Asia')\n",
        "plt.hist(asia_2007.gdpPerCapita, edgecolor = 'black')\n",
        "plt.ylabel('PerCapital Asia')\n",
        "plt.show()"
      ],
      "execution_count": null,
      "outputs": [
        {
          "output_type": "display_data",
          "data": {
            "image/png": "[encoded data removed]",
            "text/plain": [
              "<Figure size 432x288 with 1 Axes>"
            ]
          },
          "metadata": {
            "tags": [],
            "needs_background": "light"
          }
        }
      ]
    },
    {
      "cell_type": "code",
      "metadata": {
        "id": "qt1062X9OnhM",
        "colab_type": "code",
        "colab": {
          "base_uri": "https://localhost:8080/",
          "height": 281
        },
        "outputId": "ae7c4b2b-5bed-49e1-f3d9-64144314f0d5"
      },
      "source": [
        "plt.title('Distribuição Per capta Europa')\n",
        "plt.hist(europe_2007.gdpPerCapita,8, edgecolor = 'black')#onde tem o numero e a qtde de barras\n",
        "plt.ylabel('PerCapital Europa')\n",
        "plt.show()"
      ],
      "execution_count": null,
      "outputs": [
        {
          "output_type": "display_data",
          "data": {
            "image/png": "[encoded data removed]",
            "text/plain": [
              "<Figure size 432x288 with 1 Axes>"
            ]
          },
          "metadata": {
            "tags": [],
            "needs_background": "light"
          }
        }
      ]
    },
    {
      "cell_type": "code",
      "metadata": {
        "id": "xwIRZURdO69k",
        "colab_type": "code",
        "colab": {
          "base_uri": "https://localhost:8080/",
          "height": 282
        },
        "outputId": "dd998534-2a45-45dd-bc7b-9eb2e2baad1f"
      },
      "source": [
        "plt.scatter(asia_2007.gdpPerCapita, asia_2007.lifeExpectancy,s=1)"
      ],
      "execution_count": null,
      "outputs": [
        {
          "output_type": "execute_result",
          "data": {
            "text/plain": [
              "<matplotlib.collections.PathCollection at 0x7fac289d9908>"
            ]
          },
          "metadata": {
            "tags": []
          },
          "execution_count": 82
        },
        {
          "output_type": "display_data",
          "data": {
            "image/png": "[encoded data removed]",
            "text/plain": [
              "<Figure size 432x288 with 1 Axes>"
            ]
          },
          "metadata": {
            "tags": [],
            "needs_background": "light"
          }
        }
      ]
    },
    {
      "cell_type": "code",
      "metadata": {
        "id": "FIZ9goE6QbKB",
        "colab_type": "code",
        "colab": {
          "base_uri": "https://localhost:8080/",
          "height": 80
        },
        "outputId": "3552086c-62e8-4195-9e55-f3526ac7c8c0"
      },
      "source": [
        "europe_2007[europe_2007.gdpPerCapita == europe_2007.gdpPerCapita.max()]"
      ],
      "execution_count": null,
      "outputs": [
        {
          "output_type": "execute_result",
          "data": {
            "text/html": [
              "<div>\n",
              "<style scoped>\n",
              "    .dataframe tbody tr th:only-of-type {\n",
              "        vertical-align: middle;\n",
              "    }\n",
              "\n",
              "    .dataframe tbody tr th {\n",
              "        vertical-align: top;\n",
              "    }\n",
              "\n",
              "    .dataframe thead th {\n",
              "        text-align: right;\n",
              "    }\n",
              "</style>\n",
              "<table border=\"1\" class=\"dataframe\">\n",
              "  <thead>\n",
              "    <tr style=\"text-align: right;\">\n",
              "      <th></th>\n",
              "      <th>country</th>\n",
              "      <th>continent</th>\n",
              "      <th>year</th>\n",
              "      <th>lifeExpectancy</th>\n",
              "      <th>population</th>\n",
              "      <th>gdpPerCapita</th>\n",
              "    </tr>\n",
              "  </thead>\n",
              "  <tbody>\n",
              "    <tr>\n",
              "      <th>1151</th>\n",
              "      <td>Norway</td>\n",
              "      <td>Europe</td>\n",
              "      <td>2007</td>\n",
              "      <td>80.196</td>\n",
              "      <td>4627926</td>\n",
              "      <td>49357.19017</td>\n",
              "    </tr>\n",
              "  </tbody>\n",
              "</table>\n",
              "</div>"
            ],
            "text/plain": [
              "     country continent  year  lifeExpectancy  population  gdpPerCapita\n",
              "1151  Norway    Europe  2007          80.196     4627926   49357.19017"
            ]
          },
          "metadata": {
            "tags": []
          },
          "execution_count": 83
        }
      ]
    },
    {
      "cell_type": "code",
      "metadata": {
        "id": "8FborLq7VOMj",
        "colab_type": "code",
        "colab": {
          "base_uri": "https://localhost:8080/",
          "height": 80
        },
        "outputId": "df4964f2-8e59-4110-c747-693b16f6eb69"
      },
      "source": [
        "europe_2007[europe_2007.gdpPerCapita == europe_2007.gdpPerCapita.min()]"
      ],
      "execution_count": null,
      "outputs": [
        {
          "output_type": "execute_result",
          "data": {
            "text/html": [
              "<div>\n",
              "<style scoped>\n",
              "    .dataframe tbody tr th:only-of-type {\n",
              "        vertical-align: middle;\n",
              "    }\n",
              "\n",
              "    .dataframe tbody tr th {\n",
              "        vertical-align: top;\n",
              "    }\n",
              "\n",
              "    .dataframe thead th {\n",
              "        text-align: right;\n",
              "    }\n",
              "</style>\n",
              "<table border=\"1\" class=\"dataframe\">\n",
              "  <thead>\n",
              "    <tr style=\"text-align: right;\">\n",
              "      <th></th>\n",
              "      <th>country</th>\n",
              "      <th>continent</th>\n",
              "      <th>year</th>\n",
              "      <th>lifeExpectancy</th>\n",
              "      <th>population</th>\n",
              "      <th>gdpPerCapita</th>\n",
              "    </tr>\n",
              "  </thead>\n",
              "  <tbody>\n",
              "    <tr>\n",
              "      <th>23</th>\n",
              "      <td>Albania</td>\n",
              "      <td>Europe</td>\n",
              "      <td>2007</td>\n",
              "      <td>76.423</td>\n",
              "      <td>3600523</td>\n",
              "      <td>5937.029526</td>\n",
              "    </tr>\n",
              "  </tbody>\n",
              "</table>\n",
              "</div>"
            ],
            "text/plain": [
              "    country continent  year  lifeExpectancy  population  gdpPerCapita\n",
              "23  Albania    Europe  2007          76.423     3600523   5937.029526"
            ]
          },
          "metadata": {
            "tags": []
          },
          "execution_count": 84
        }
      ]
    },
    {
      "cell_type": "code",
      "metadata": {
        "id": "YMSF3AE7VQ8T",
        "colab_type": "code",
        "colab": {
          "base_uri": "https://localhost:8080/",
          "height": 80
        },
        "outputId": "0f315f10-f485-4151-e809-a6acede47e9d"
      },
      "source": [
        "asia_2007[asia_2007.gdpPerCapita == asia_2007.gdpPerCapita.max()]"
      ],
      "execution_count": null,
      "outputs": [
        {
          "output_type": "execute_result",
          "data": {
            "text/html": [
              "<div>\n",
              "<style scoped>\n",
              "    .dataframe tbody tr th:only-of-type {\n",
              "        vertical-align: middle;\n",
              "    }\n",
              "\n",
              "    .dataframe tbody tr th {\n",
              "        vertical-align: top;\n",
              "    }\n",
              "\n",
              "    .dataframe thead th {\n",
              "        text-align: right;\n",
              "    }\n",
              "</style>\n",
              "<table border=\"1\" class=\"dataframe\">\n",
              "  <thead>\n",
              "    <tr style=\"text-align: right;\">\n",
              "      <th></th>\n",
              "      <th>country</th>\n",
              "      <th>continent</th>\n",
              "      <th>year</th>\n",
              "      <th>lifeExpectancy</th>\n",
              "      <th>population</th>\n",
              "      <th>gdpPerCapita</th>\n",
              "    </tr>\n",
              "  </thead>\n",
              "  <tbody>\n",
              "    <tr>\n",
              "      <th>863</th>\n",
              "      <td>Kuwait</td>\n",
              "      <td>Asia</td>\n",
              "      <td>2007</td>\n",
              "      <td>77.588</td>\n",
              "      <td>2505559</td>\n",
              "      <td>47306.98978</td>\n",
              "    </tr>\n",
              "  </tbody>\n",
              "</table>\n",
              "</div>"
            ],
            "text/plain": [
              "    country continent  year  lifeExpectancy  population  gdpPerCapita\n",
              "863  Kuwait      Asia  2007          77.588     2505559   47306.98978"
            ]
          },
          "metadata": {
            "tags": []
          },
          "execution_count": 85
        }
      ]
    },
    {
      "cell_type": "code",
      "metadata": {
        "id": "B6pTt5yIVXtU",
        "colab_type": "code",
        "colab": {
          "base_uri": "https://localhost:8080/",
          "height": 80
        },
        "outputId": "ae0bd6c0-c280-489b-e2bd-d00c0796a8d2"
      },
      "source": [
        "asia_2007[asia_2007.gdpPerCapita == asia_2007.gdpPerCapita.min()]"
      ],
      "execution_count": null,
      "outputs": [
        {
          "output_type": "execute_result",
          "data": {
            "text/html": [
              "<div>\n",
              "<style scoped>\n",
              "    .dataframe tbody tr th:only-of-type {\n",
              "        vertical-align: middle;\n",
              "    }\n",
              "\n",
              "    .dataframe tbody tr th {\n",
              "        vertical-align: top;\n",
              "    }\n",
              "\n",
              "    .dataframe thead th {\n",
              "        text-align: right;\n",
              "    }\n",
              "</style>\n",
              "<table border=\"1\" class=\"dataframe\">\n",
              "  <thead>\n",
              "    <tr style=\"text-align: right;\">\n",
              "      <th></th>\n",
              "      <th>country</th>\n",
              "      <th>continent</th>\n",
              "      <th>year</th>\n",
              "      <th>lifeExpectancy</th>\n",
              "      <th>population</th>\n",
              "      <th>gdpPerCapita</th>\n",
              "    </tr>\n",
              "  </thead>\n",
              "  <tbody>\n",
              "    <tr>\n",
              "      <th>1055</th>\n",
              "      <td>Myanmar</td>\n",
              "      <td>Asia</td>\n",
              "      <td>2007</td>\n",
              "      <td>62.069</td>\n",
              "      <td>47761980</td>\n",
              "      <td>944.0</td>\n",
              "    </tr>\n",
              "  </tbody>\n",
              "</table>\n",
              "</div>"
            ],
            "text/plain": [
              "      country continent  year  lifeExpectancy  population  gdpPerCapita\n",
              "1055  Myanmar      Asia  2007          62.069    47761980         944.0"
            ]
          },
          "metadata": {
            "tags": []
          },
          "execution_count": 86
        }
      ]
    },
    {
      "cell_type": "code",
      "metadata": {
        "id": "83bT583bVazB",
        "colab_type": "code",
        "colab": {}
      },
      "source": [
        ""
      ],
      "execution_count": null,
      "outputs": []
    },
    {
      "cell_type": "markdown",
      "metadata": {
        "id": "ezC8IrEBX9xS",
        "colab_type": "text"
      },
      "source": [
        "#### Exercício 1\n",
        "\n",
        "Selecione outros 3 países, de preferência que possuam muita divergência economica, e faça uma análise similar a essa. Você deverá gerar gráficos comparativos.\n",
        "\n",
        "#### Exercício 2\n",
        "\n",
        "Faça uma análise similar, porém considerando a expectativa de vida\n",
        "\n",
        "#### Exercício 3\n",
        "\n",
        "Faça uma análise similar, porém considerando o tamanho da população\n"
      ]
    },
    {
      "cell_type": "code",
      "metadata": {
        "id": "9XVEZkjfX_hG",
        "colab_type": "code",
        "colab": {}
      },
      "source": [
        ""
      ],
      "execution_count": null,
      "outputs": []
    }
  ]
}